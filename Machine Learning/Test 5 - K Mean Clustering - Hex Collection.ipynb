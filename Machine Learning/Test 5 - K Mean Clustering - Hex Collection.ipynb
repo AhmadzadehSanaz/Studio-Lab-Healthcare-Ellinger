{
 "cells": [
  {
   "cell_type": "code",
   "execution_count": 1,
   "metadata": {
    "executionInfo": {
     "elapsed": 513,
     "status": "ok",
     "timestamp": 1605638967430,
     "user": {
      "displayName": "Alireza Karduni",
      "photoUrl": "",
      "userId": "16608708813703075774"
     },
     "user_tz": 300
    },
    "id": "MuN9ymMoYK38"
   },
   "outputs": [],
   "source": [
    "import os\n",
    "import pandas as pd\n",
    "import requests\n",
    "from sklearn.preprocessing import MinMaxScaler\n",
    "import json\n",
    "import geopandas as gpd\n",
    "import matplotlib.pyplot as plt\n",
    "from matplotlib.backends.backend_pdf import FigureCanvasPdf, PdfPages\n",
    "from matplotlib.figure import Figure\n",
    "import numpy as np"
   ]
  },
  {
   "cell_type": "code",
   "execution_count": 2,
   "metadata": {
    "colab": {
     "base_uri": "https://localhost:8080/"
    },
    "executionInfo": {
     "elapsed": 758,
     "status": "ok",
     "timestamp": 1605637933720,
     "user": {
      "displayName": "Alireza Karduni",
      "photoUrl": "",
      "userId": "16608708813703075774"
     },
     "user_tz": 300
    },
    "id": "b4KRaSN6YaG9",
    "outputId": "0f3aea4d-c0b8-46ab-9bd9-fb759367ead3"
   },
   "outputs": [],
   "source": [
    "#os.listdir()"
   ]
  },
  {
   "cell_type": "code",
   "execution_count": 4,
   "metadata": {},
   "outputs": [],
   "source": [
    "#os.chdir(\"drive/My Drive/Studio-Lab-Healthcare-Ellinger/kmeans\")"
   ]
  },
  {
   "cell_type": "code",
   "execution_count": 5,
   "metadata": {
    "executionInfo": {
     "elapsed": 1140,
     "status": "ok",
     "timestamp": 1605636566930,
     "user": {
      "displayName": "Alireza Karduni",
      "photoUrl": "",
      "userId": "16608708813703075774"
     },
     "user_tz": 300
    },
    "id": "KCTV1uC-ZLel"
   },
   "outputs": [],
   "source": [
    "r = requests.get(\"https://github.com/AhmadzadehSanaz/Studio-Lab-Healthcare-Ellinger/raw/main/Data%20Pipeline/hexagon_collection_master.geojson\")"
   ]
  },
  {
   "cell_type": "code",
   "execution_count": 6,
   "metadata": {
    "executionInfo": {
     "elapsed": 654,
     "status": "ok",
     "timestamp": 1605636583058,
     "user": {
      "displayName": "Alireza Karduni",
      "photoUrl": "",
      "userId": "16608708813703075774"
     },
     "user_tz": 300
    },
    "id": "U7VSDBt2ZM2L"
   },
   "outputs": [],
   "source": [
    "data = r.json()"
   ]
  },
  {
   "cell_type": "code",
   "execution_count": 7,
   "metadata": {
    "executionInfo": {
     "elapsed": 303,
     "status": "ok",
     "timestamp": 1605640538745,
     "user": {
      "displayName": "Alireza Karduni",
      "photoUrl": "",
      "userId": "16608708813703075774"
     },
     "user_tz": 300
    },
    "id": "PrWDxEFsoWFy"
   },
   "outputs": [],
   "source": [
    "# with open(\"datafilename.geojson\") as jsonFile:\n",
    "# data = json.loads(jsonFile.read()"
   ]
  },
  {
   "cell_type": "code",
   "execution_count": 8,
   "metadata": {
    "executionInfo": {
     "elapsed": 667,
     "status": "ok",
     "timestamp": 1605636657637,
     "user": {
      "displayName": "Alireza Karduni",
      "photoUrl": "",
      "userId": "16608708813703075774"
     },
     "user_tz": 300
    },
    "id": "m9WeDI6pZf2c"
   },
   "outputs": [],
   "source": [
    "features = [f[\"properties\"] for f in data[\"features\"]]"
   ]
  },
  {
   "cell_type": "code",
   "execution_count": 9,
   "metadata": {
    "executionInfo": {
     "elapsed": 477,
     "status": "ok",
     "timestamp": 1605636786698,
     "user": {
      "displayName": "Alireza Karduni",
      "photoUrl": "",
      "userId": "16608708813703075774"
     },
     "user_tz": 300
    },
    "id": "Z7XEPyT-aNHS"
   },
   "outputs": [],
   "source": [
    "df = pd.DataFrame.from_records(features)"
   ]
  },
  {
   "cell_type": "code",
   "execution_count": 10,
   "metadata": {
    "colab": {
     "base_uri": "https://localhost:8080/",
     "height": 275
    },
    "executionInfo": {
     "elapsed": 592,
     "status": "ok",
     "timestamp": 1605636789856,
     "user": {
      "displayName": "Alireza Karduni",
      "photoUrl": "",
      "userId": "16608708813703075774"
     },
     "user_tz": 300
    },
    "id": "rmawAil3aQft",
    "outputId": "cea6bb20-b36a-40d7-9ffa-e7bb3ac99b73"
   },
   "outputs": [
    {
     "data": {
      "text/html": [
       "<div>\n",
       "<style scoped>\n",
       "    .dataframe tbody tr th:only-of-type {\n",
       "        vertical-align: middle;\n",
       "    }\n",
       "\n",
       "    .dataframe tbody tr th {\n",
       "        vertical-align: top;\n",
       "    }\n",
       "\n",
       "    .dataframe thead th {\n",
       "        text-align: right;\n",
       "    }\n",
       "</style>\n",
       "<table border=\"1\" class=\"dataframe\">\n",
       "  <thead>\n",
       "    <tr style=\"text-align: right;\">\n",
       "      <th></th>\n",
       "      <th>fid</th>\n",
       "      <th>id</th>\n",
       "      <th>top</th>\n",
       "      <th>right</th>\n",
       "      <th>bottom</th>\n",
       "      <th>adult_obesity</th>\n",
       "      <th>total_population</th>\n",
       "      <th>hispanic_or_latino_population_number_mean</th>\n",
       "      <th>non_hispanic_african_american_or_black_population_number_mean</th>\n",
       "      <th>non_hispanic_asian_or_pacific_islander_population_number_mean</th>\n",
       "      <th>...</th>\n",
       "      <th>nearest_hospital_name</th>\n",
       "      <th>nearest_hospital_distance</th>\n",
       "      <th>nearest_cta_rail_station_name</th>\n",
       "      <th>nearest_cta_rail_station_distance</th>\n",
       "      <th>nearest_bus_station_name</th>\n",
       "      <th>nearest_bus_station_distance</th>\n",
       "      <th>nearest_bike_station_name</th>\n",
       "      <th>nearest_bike_station_distance</th>\n",
       "      <th>bike_station_count</th>\n",
       "      <th>predominant_race_by_population_per_cell</th>\n",
       "    </tr>\n",
       "  </thead>\n",
       "  <tbody>\n",
       "    <tr>\n",
       "      <th>0</th>\n",
       "      <td>1</td>\n",
       "      <td>6274</td>\n",
       "      <td>1.913898e+06</td>\n",
       "      <td>1.162049e+06</td>\n",
       "      <td>1.911258e+06</td>\n",
       "      <td>140500.000000</td>\n",
       "      <td>79532.000000</td>\n",
       "      <td>28172.500000</td>\n",
       "      <td>5053.500000</td>\n",
       "      <td>2817.0</td>\n",
       "      <td>...</td>\n",
       "      <td>St. Elizabeth's Hospital</td>\n",
       "      <td>0.569742</td>\n",
       "      <td>Western/Milwaukee</td>\n",
       "      <td>0.090404</td>\n",
       "      <td>Milwaukee &amp; Oakley/Moffat</td>\n",
       "      <td>0.054090</td>\n",
       "      <td>Western Ave &amp; Winnebago Ave</td>\n",
       "      <td>0.072335</td>\n",
       "      <td>2.0</td>\n",
       "      <td>Hispanic or Latino</td>\n",
       "    </tr>\n",
       "    <tr>\n",
       "      <th>1</th>\n",
       "      <td>2</td>\n",
       "      <td>6275</td>\n",
       "      <td>1.911258e+06</td>\n",
       "      <td>1.162049e+06</td>\n",
       "      <td>1.908618e+06</td>\n",
       "      <td>133000.000000</td>\n",
       "      <td>84458.000000</td>\n",
       "      <td>22477.000000</td>\n",
       "      <td>6551.000000</td>\n",
       "      <td>3373.0</td>\n",
       "      <td>...</td>\n",
       "      <td>St. Elizabeth's Hospital</td>\n",
       "      <td>0.071033</td>\n",
       "      <td>Damen/Milwaukee</td>\n",
       "      <td>0.435950</td>\n",
       "      <td>Western &amp; Le Moyne</td>\n",
       "      <td>0.067718</td>\n",
       "      <td>Claremont Ave &amp; Hirsch St</td>\n",
       "      <td>0.054763</td>\n",
       "      <td>3.0</td>\n",
       "      <td>Hispanic or Latino</td>\n",
       "    </tr>\n",
       "    <tr>\n",
       "      <th>2</th>\n",
       "      <td>3</td>\n",
       "      <td>6272</td>\n",
       "      <td>1.919178e+06</td>\n",
       "      <td>1.162049e+06</td>\n",
       "      <td>1.916538e+06</td>\n",
       "      <td>159750.000000</td>\n",
       "      <td>53749.750000</td>\n",
       "      <td>16572.250000</td>\n",
       "      <td>2050.750000</td>\n",
       "      <td>2369.0</td>\n",
       "      <td>...</td>\n",
       "      <td>St. Elizabeth's Hospital</td>\n",
       "      <td>1.569618</td>\n",
       "      <td>California/Milwaukee</td>\n",
       "      <td>0.822329</td>\n",
       "      <td>Western &amp; Schubert</td>\n",
       "      <td>0.112082</td>\n",
       "      <td>Logan Blvd &amp; Elston Ave</td>\n",
       "      <td>0.091337</td>\n",
       "      <td>1.0</td>\n",
       "      <td>Hispanic or Latino</td>\n",
       "    </tr>\n",
       "    <tr>\n",
       "      <th>3</th>\n",
       "      <td>4</td>\n",
       "      <td>6273</td>\n",
       "      <td>1.916538e+06</td>\n",
       "      <td>1.162049e+06</td>\n",
       "      <td>1.913898e+06</td>\n",
       "      <td>148000.000000</td>\n",
       "      <td>74606.000000</td>\n",
       "      <td>33868.000000</td>\n",
       "      <td>3556.000000</td>\n",
       "      <td>2261.0</td>\n",
       "      <td>...</td>\n",
       "      <td>St. Elizabeth's Hospital</td>\n",
       "      <td>1.069653</td>\n",
       "      <td>Western/Milwaukee</td>\n",
       "      <td>0.484871</td>\n",
       "      <td>Western &amp; Belden</td>\n",
       "      <td>0.097150</td>\n",
       "      <td>Campbell Ave &amp; Fullerton Ave</td>\n",
       "      <td>0.219662</td>\n",
       "      <td>1.0</td>\n",
       "      <td>Hispanic or Latino</td>\n",
       "    </tr>\n",
       "    <tr>\n",
       "      <th>4</th>\n",
       "      <td>5</td>\n",
       "      <td>6278</td>\n",
       "      <td>1.903338e+06</td>\n",
       "      <td>1.162049e+06</td>\n",
       "      <td>1.900698e+06</td>\n",
       "      <td>110333.333333</td>\n",
       "      <td>55750.666667</td>\n",
       "      <td>9764.666667</td>\n",
       "      <td>14421.666667</td>\n",
       "      <td>4577.0</td>\n",
       "      <td>...</td>\n",
       "      <td>Saint Mary Of Nazareth Hospital</td>\n",
       "      <td>1.092766</td>\n",
       "      <td>California-Lake</td>\n",
       "      <td>0.559566</td>\n",
       "      <td>Western &amp; Fulton</td>\n",
       "      <td>0.028106</td>\n",
       "      <td>Artesian Ave &amp; Hubbard St</td>\n",
       "      <td>0.216887</td>\n",
       "      <td>1.0</td>\n",
       "      <td>Hispanic or Latino</td>\n",
       "    </tr>\n",
       "  </tbody>\n",
       "</table>\n",
       "<p>5 rows × 34 columns</p>\n",
       "</div>"
      ],
      "text/plain": [
       "   fid    id           top         right        bottom  adult_obesity  \\\n",
       "0    1  6274  1.913898e+06  1.162049e+06  1.911258e+06  140500.000000   \n",
       "1    2  6275  1.911258e+06  1.162049e+06  1.908618e+06  133000.000000   \n",
       "2    3  6272  1.919178e+06  1.162049e+06  1.916538e+06  159750.000000   \n",
       "3    4  6273  1.916538e+06  1.162049e+06  1.913898e+06  148000.000000   \n",
       "4    5  6278  1.903338e+06  1.162049e+06  1.900698e+06  110333.333333   \n",
       "\n",
       "   total_population  hispanic_or_latino_population_number_mean  \\\n",
       "0      79532.000000                               28172.500000   \n",
       "1      84458.000000                               22477.000000   \n",
       "2      53749.750000                               16572.250000   \n",
       "3      74606.000000                               33868.000000   \n",
       "4      55750.666667                                9764.666667   \n",
       "\n",
       "   non_hispanic_african_american_or_black_population_number_mean  \\\n",
       "0                                        5053.500000               \n",
       "1                                        6551.000000               \n",
       "2                                        2050.750000               \n",
       "3                                        3556.000000               \n",
       "4                                       14421.666667               \n",
       "\n",
       "   non_hispanic_asian_or_pacific_islander_population_number_mean  ...  \\\n",
       "0                                             2817.0              ...   \n",
       "1                                             3373.0              ...   \n",
       "2                                             2369.0              ...   \n",
       "3                                             2261.0              ...   \n",
       "4                                             4577.0              ...   \n",
       "\n",
       "             nearest_hospital_name  nearest_hospital_distance  \\\n",
       "0         St. Elizabeth's Hospital                   0.569742   \n",
       "1         St. Elizabeth's Hospital                   0.071033   \n",
       "2         St. Elizabeth's Hospital                   1.569618   \n",
       "3         St. Elizabeth's Hospital                   1.069653   \n",
       "4  Saint Mary Of Nazareth Hospital                   1.092766   \n",
       "\n",
       "   nearest_cta_rail_station_name  nearest_cta_rail_station_distance  \\\n",
       "0              Western/Milwaukee                           0.090404   \n",
       "1                Damen/Milwaukee                           0.435950   \n",
       "2           California/Milwaukee                           0.822329   \n",
       "3              Western/Milwaukee                           0.484871   \n",
       "4                California-Lake                           0.559566   \n",
       "\n",
       "    nearest_bus_station_name  nearest_bus_station_distance  \\\n",
       "0  Milwaukee & Oakley/Moffat                      0.054090   \n",
       "1         Western & Le Moyne                      0.067718   \n",
       "2         Western & Schubert                      0.112082   \n",
       "3           Western & Belden                      0.097150   \n",
       "4           Western & Fulton                      0.028106   \n",
       "\n",
       "      nearest_bike_station_name  nearest_bike_station_distance  \\\n",
       "0   Western Ave & Winnebago Ave                       0.072335   \n",
       "1     Claremont Ave & Hirsch St                       0.054763   \n",
       "2       Logan Blvd & Elston Ave                       0.091337   \n",
       "3  Campbell Ave & Fullerton Ave                       0.219662   \n",
       "4     Artesian Ave & Hubbard St                       0.216887   \n",
       "\n",
       "   bike_station_count  predominant_race_by_population_per_cell  \n",
       "0                 2.0                       Hispanic or Latino  \n",
       "1                 3.0                       Hispanic or Latino  \n",
       "2                 1.0                       Hispanic or Latino  \n",
       "3                 1.0                       Hispanic or Latino  \n",
       "4                 1.0                       Hispanic or Latino  \n",
       "\n",
       "[5 rows x 34 columns]"
      ]
     },
     "execution_count": 10,
     "metadata": {},
     "output_type": "execute_result"
    }
   ],
   "source": [
    "df.head()"
   ]
  },
  {
   "cell_type": "code",
   "execution_count": 11,
   "metadata": {
    "colab": {
     "base_uri": "https://localhost:8080/"
    },
    "executionInfo": {
     "elapsed": 452,
     "status": "ok",
     "timestamp": 1605636836426,
     "user": {
      "displayName": "Alireza Karduni",
      "photoUrl": "",
      "userId": "16608708813703075774"
     },
     "user_tz": 300
    },
    "id": "6qgySw6haROj",
    "outputId": "00ad029c-6cc8-447c-fb65-352315bb073e"
   },
   "outputs": [
    {
     "data": {
      "text/plain": [
       "Index(['fid', 'id', 'top', 'right', 'bottom', 'adult_obesity',\n",
       "       'total_population', 'hispanic_or_latino_population_number_mean',\n",
       "       'non_hispanic_african_american_or_black_population_number_mean',\n",
       "       'non_hispanic_asian_or_pacific_islander_population_number_mean',\n",
       "       'non_hispanic_white_population_number_mean', 'park_count',\n",
       "       'population_no_health_insurance', 'median_household_income',\n",
       "       'hospital_count', 'cta_rail_station_count', 'cta_bus_station_count',\n",
       "       'asthma_population_number', 'diabetes_population_number',\n",
       "       'air_quality_index_number', 'air_quality_PM10_number\\t',\n",
       "       'air_quality_PM25_number', 'nearest_park_name', 'nearest_park_distance',\n",
       "       'nearest_hospital_name', 'nearest_hospital_distance',\n",
       "       'nearest_cta_rail_station_name', 'nearest_cta_rail_station_distance',\n",
       "       'nearest_bus_station_name', 'nearest_bus_station_distance',\n",
       "       'nearest_bike_station_name', 'nearest_bike_station_distance',\n",
       "       'bike_station_count', 'predominant_race_by_population_per_cell'],\n",
       "      dtype='object')"
      ]
     },
     "execution_count": 11,
     "metadata": {},
     "output_type": "execute_result"
    }
   ],
   "source": [
    "df.columns"
   ]
  },
  {
   "cell_type": "code",
   "execution_count": 12,
   "metadata": {
    "executionInfo": {
     "elapsed": 588,
     "status": "ok",
     "timestamp": 1605637224742,
     "user": {
      "displayName": "Alireza Karduni",
      "photoUrl": "",
      "userId": "16608708813703075774"
     },
     "user_tz": 300
    },
    "id": "vaZDvIOeacnm"
   },
   "outputs": [],
   "source": [
    "exclude = ['fid', 'id', 'top', 'right', 'bottom',\"predominant_race_by_population_per_cell\"]"
   ]
  },
  {
   "cell_type": "code",
   "execution_count": 13,
   "metadata": {
    "executionInfo": {
     "elapsed": 543,
     "status": "ok",
     "timestamp": 1605637225802,
     "user": {
      "displayName": "Alireza Karduni",
      "photoUrl": "",
      "userId": "16608708813703075774"
     },
     "user_tz": 300
    },
    "id": "lVpDks0Lapms"
   },
   "outputs": [],
   "source": [
    "withName = [i for i in df.columns if \"name\" in i]"
   ]
  },
  {
   "cell_type": "code",
   "execution_count": 14,
   "metadata": {
    "executionInfo": {
     "elapsed": 647,
     "status": "ok",
     "timestamp": 1605637227589,
     "user": {
      "displayName": "Alireza Karduni",
      "photoUrl": "",
      "userId": "16608708813703075774"
     },
     "user_tz": 300
    },
    "id": "EIX_bTpZatNP"
   },
   "outputs": [],
   "source": [
    "exclude = exclude + withName"
   ]
  },
  {
   "cell_type": "code",
   "execution_count": 15,
   "metadata": {
    "colab": {
     "base_uri": "https://localhost:8080/"
    },
    "executionInfo": {
     "elapsed": 422,
     "status": "ok",
     "timestamp": 1605637228097,
     "user": {
      "displayName": "Alireza Karduni",
      "photoUrl": "",
      "userId": "16608708813703075774"
     },
     "user_tz": 300
    },
    "id": "pa-53qVXauLG",
    "outputId": "329bc7b6-d434-4bf9-dc58-02d41c81014d"
   },
   "outputs": [
    {
     "data": {
      "text/plain": [
       "['fid',\n",
       " 'id',\n",
       " 'top',\n",
       " 'right',\n",
       " 'bottom',\n",
       " 'predominant_race_by_population_per_cell',\n",
       " 'nearest_park_name',\n",
       " 'nearest_hospital_name',\n",
       " 'nearest_cta_rail_station_name',\n",
       " 'nearest_bus_station_name',\n",
       " 'nearest_bike_station_name']"
      ]
     },
     "execution_count": 15,
     "metadata": {},
     "output_type": "execute_result"
    }
   ],
   "source": [
    "exclude"
   ]
  },
  {
   "cell_type": "code",
   "execution_count": 16,
   "metadata": {
    "executionInfo": {
     "elapsed": 499,
     "status": "ok",
     "timestamp": 1605637230667,
     "user": {
      "displayName": "Alireza Karduni",
      "photoUrl": "",
      "userId": "16608708813703075774"
     },
     "user_tz": 300
    },
    "id": "xu_UdeN9bSH_"
   },
   "outputs": [],
   "source": [
    "race = pd.get_dummies(df[\"predominant_race_by_population_per_cell\"])"
   ]
  },
  {
   "cell_type": "code",
   "execution_count": 17,
   "metadata": {
    "colab": {
     "base_uri": "https://localhost:8080/",
     "height": 436
    },
    "executionInfo": {
     "elapsed": 481,
     "status": "ok",
     "timestamp": 1605637231621,
     "user": {
      "displayName": "Alireza Karduni",
      "photoUrl": "",
      "userId": "16608708813703075774"
     },
     "user_tz": 300
    },
    "id": "HGPAgdLjbaRu",
    "outputId": "5011ba9e-3028-4378-9624-af7a4fc83aab"
   },
   "outputs": [
    {
     "data": {
      "text/html": [
       "<div>\n",
       "<style scoped>\n",
       "    .dataframe tbody tr th:only-of-type {\n",
       "        vertical-align: middle;\n",
       "    }\n",
       "\n",
       "    .dataframe tbody tr th {\n",
       "        vertical-align: top;\n",
       "    }\n",
       "\n",
       "    .dataframe thead th {\n",
       "        text-align: right;\n",
       "    }\n",
       "</style>\n",
       "<table border=\"1\" class=\"dataframe\">\n",
       "  <thead>\n",
       "    <tr style=\"text-align: right;\">\n",
       "      <th></th>\n",
       "      <th>Hispanic or Latino</th>\n",
       "      <th>Non-Hispanic African American or Black</th>\n",
       "      <th>Non-Hispanic Asian or Pacific Islander</th>\n",
       "    </tr>\n",
       "  </thead>\n",
       "  <tbody>\n",
       "    <tr>\n",
       "      <th>0</th>\n",
       "      <td>1</td>\n",
       "      <td>0</td>\n",
       "      <td>0</td>\n",
       "    </tr>\n",
       "    <tr>\n",
       "      <th>1</th>\n",
       "      <td>1</td>\n",
       "      <td>0</td>\n",
       "      <td>0</td>\n",
       "    </tr>\n",
       "    <tr>\n",
       "      <th>2</th>\n",
       "      <td>1</td>\n",
       "      <td>0</td>\n",
       "      <td>0</td>\n",
       "    </tr>\n",
       "    <tr>\n",
       "      <th>3</th>\n",
       "      <td>1</td>\n",
       "      <td>0</td>\n",
       "      <td>0</td>\n",
       "    </tr>\n",
       "    <tr>\n",
       "      <th>4</th>\n",
       "      <td>1</td>\n",
       "      <td>0</td>\n",
       "      <td>0</td>\n",
       "    </tr>\n",
       "    <tr>\n",
       "      <th>...</th>\n",
       "      <td>...</td>\n",
       "      <td>...</td>\n",
       "      <td>...</td>\n",
       "    </tr>\n",
       "    <tr>\n",
       "      <th>1233</th>\n",
       "      <td>0</td>\n",
       "      <td>1</td>\n",
       "      <td>0</td>\n",
       "    </tr>\n",
       "    <tr>\n",
       "      <th>1234</th>\n",
       "      <td>0</td>\n",
       "      <td>1</td>\n",
       "      <td>0</td>\n",
       "    </tr>\n",
       "    <tr>\n",
       "      <th>1235</th>\n",
       "      <td>0</td>\n",
       "      <td>1</td>\n",
       "      <td>0</td>\n",
       "    </tr>\n",
       "    <tr>\n",
       "      <th>1236</th>\n",
       "      <td>0</td>\n",
       "      <td>1</td>\n",
       "      <td>0</td>\n",
       "    </tr>\n",
       "    <tr>\n",
       "      <th>1237</th>\n",
       "      <td>0</td>\n",
       "      <td>1</td>\n",
       "      <td>0</td>\n",
       "    </tr>\n",
       "  </tbody>\n",
       "</table>\n",
       "<p>1238 rows × 3 columns</p>\n",
       "</div>"
      ],
      "text/plain": [
       "      Hispanic or Latino  Non-Hispanic African American or Black  \\\n",
       "0                      1                                       0   \n",
       "1                      1                                       0   \n",
       "2                      1                                       0   \n",
       "3                      1                                       0   \n",
       "4                      1                                       0   \n",
       "...                  ...                                     ...   \n",
       "1233                   0                                       1   \n",
       "1234                   0                                       1   \n",
       "1235                   0                                       1   \n",
       "1236                   0                                       1   \n",
       "1237                   0                                       1   \n",
       "\n",
       "      Non-Hispanic Asian or Pacific Islander  \n",
       "0                                          0  \n",
       "1                                          0  \n",
       "2                                          0  \n",
       "3                                          0  \n",
       "4                                          0  \n",
       "...                                      ...  \n",
       "1233                                       0  \n",
       "1234                                       0  \n",
       "1235                                       0  \n",
       "1236                                       0  \n",
       "1237                                       0  \n",
       "\n",
       "[1238 rows x 3 columns]"
      ]
     },
     "execution_count": 17,
     "metadata": {},
     "output_type": "execute_result"
    }
   ],
   "source": [
    "race"
   ]
  },
  {
   "cell_type": "code",
   "execution_count": 18,
   "metadata": {
    "colab": {
     "base_uri": "https://localhost:8080/"
    },
    "executionInfo": {
     "elapsed": 459,
     "status": "ok",
     "timestamp": 1605637235350,
     "user": {
      "displayName": "Alireza Karduni",
      "photoUrl": "",
      "userId": "16608708813703075774"
     },
     "user_tz": 300
    },
    "id": "3zFaB402biXp",
    "outputId": "d82ff533-ed15-441a-a502-24f83fb54081"
   },
   "outputs": [
    {
     "data": {
      "text/plain": [
       "array(['Hispanic or Latino', 'Non-Hispanic African American or Black',\n",
       "       'Non-Hispanic Asian or Pacific Islander'], dtype=object)"
      ]
     },
     "execution_count": 18,
     "metadata": {},
     "output_type": "execute_result"
    }
   ],
   "source": [
    "df[\"predominant_race_by_population_per_cell\"].unique()"
   ]
  },
  {
   "cell_type": "code",
   "execution_count": 19,
   "metadata": {
    "executionInfo": {
     "elapsed": 519,
     "status": "ok",
     "timestamp": 1605637511968,
     "user": {
      "displayName": "Alireza Karduni",
      "photoUrl": "",
      "userId": "16608708813703075774"
     },
     "user_tz": 300
    },
    "id": "7eRHLH7IayBy"
   },
   "outputs": [],
   "source": [
    "X = df.drop(exclude,axis=1)"
   ]
  },
  {
   "cell_type": "code",
   "execution_count": 20,
   "metadata": {
    "colab": {
     "base_uri": "https://localhost:8080/",
     "height": 224
    },
    "executionInfo": {
     "elapsed": 513,
     "status": "ok",
     "timestamp": 1605637512906,
     "user": {
      "displayName": "Alireza Karduni",
      "photoUrl": "",
      "userId": "16608708813703075774"
     },
     "user_tz": 300
    },
    "id": "_il2TX4Gct66",
    "outputId": "1c88918e-35c1-404b-b5d8-41b109adb379"
   },
   "outputs": [
    {
     "data": {
      "text/html": [
       "<div>\n",
       "<style scoped>\n",
       "    .dataframe tbody tr th:only-of-type {\n",
       "        vertical-align: middle;\n",
       "    }\n",
       "\n",
       "    .dataframe tbody tr th {\n",
       "        vertical-align: top;\n",
       "    }\n",
       "\n",
       "    .dataframe thead th {\n",
       "        text-align: right;\n",
       "    }\n",
       "</style>\n",
       "<table border=\"1\" class=\"dataframe\">\n",
       "  <thead>\n",
       "    <tr style=\"text-align: right;\">\n",
       "      <th></th>\n",
       "      <th>adult_obesity</th>\n",
       "      <th>total_population</th>\n",
       "      <th>hispanic_or_latino_population_number_mean</th>\n",
       "      <th>non_hispanic_african_american_or_black_population_number_mean</th>\n",
       "      <th>non_hispanic_asian_or_pacific_islander_population_number_mean</th>\n",
       "      <th>non_hispanic_white_population_number_mean</th>\n",
       "      <th>park_count</th>\n",
       "      <th>population_no_health_insurance</th>\n",
       "      <th>median_household_income</th>\n",
       "      <th>hospital_count</th>\n",
       "      <th>...</th>\n",
       "      <th>diabetes_population_number</th>\n",
       "      <th>air_quality_index_number</th>\n",
       "      <th>air_quality_PM10_number\\t</th>\n",
       "      <th>air_quality_PM25_number</th>\n",
       "      <th>nearest_park_distance</th>\n",
       "      <th>nearest_hospital_distance</th>\n",
       "      <th>nearest_cta_rail_station_distance</th>\n",
       "      <th>nearest_bus_station_distance</th>\n",
       "      <th>nearest_bike_station_distance</th>\n",
       "      <th>bike_station_count</th>\n",
       "    </tr>\n",
       "  </thead>\n",
       "  <tbody>\n",
       "    <tr>\n",
       "      <th>0</th>\n",
       "      <td>140500.000000</td>\n",
       "      <td>79532.000000</td>\n",
       "      <td>28172.500000</td>\n",
       "      <td>5053.500000</td>\n",
       "      <td>2817.0</td>\n",
       "      <td>41541.500000</td>\n",
       "      <td>2</td>\n",
       "      <td>10409.000000</td>\n",
       "      <td>73183.000000</td>\n",
       "      <td>0</td>\n",
       "      <td>...</td>\n",
       "      <td>5600.000000</td>\n",
       "      <td>33.310000</td>\n",
       "      <td>22.205000</td>\n",
       "      <td>8.800000</td>\n",
       "      <td>0.107567</td>\n",
       "      <td>0.569742</td>\n",
       "      <td>0.090404</td>\n",
       "      <td>0.054090</td>\n",
       "      <td>0.072335</td>\n",
       "      <td>2.0</td>\n",
       "    </tr>\n",
       "    <tr>\n",
       "      <th>1</th>\n",
       "      <td>133000.000000</td>\n",
       "      <td>84458.000000</td>\n",
       "      <td>22477.000000</td>\n",
       "      <td>6551.000000</td>\n",
       "      <td>3373.0</td>\n",
       "      <td>49729.000000</td>\n",
       "      <td>2</td>\n",
       "      <td>9424.000000</td>\n",
       "      <td>79013.000000</td>\n",
       "      <td>1</td>\n",
       "      <td>...</td>\n",
       "      <td>4700.000000</td>\n",
       "      <td>32.340000</td>\n",
       "      <td>22.360000</td>\n",
       "      <td>8.790000</td>\n",
       "      <td>0.175790</td>\n",
       "      <td>0.071033</td>\n",
       "      <td>0.435950</td>\n",
       "      <td>0.067718</td>\n",
       "      <td>0.054763</td>\n",
       "      <td>3.0</td>\n",
       "    </tr>\n",
       "    <tr>\n",
       "      <th>2</th>\n",
       "      <td>159750.000000</td>\n",
       "      <td>53749.750000</td>\n",
       "      <td>16572.250000</td>\n",
       "      <td>2050.750000</td>\n",
       "      <td>2369.0</td>\n",
       "      <td>31349.750000</td>\n",
       "      <td>1</td>\n",
       "      <td>6492.250000</td>\n",
       "      <td>80099.250000</td>\n",
       "      <td>0</td>\n",
       "      <td>...</td>\n",
       "      <td>4275.000000</td>\n",
       "      <td>33.925000</td>\n",
       "      <td>21.720000</td>\n",
       "      <td>8.800000</td>\n",
       "      <td>0.223092</td>\n",
       "      <td>1.569618</td>\n",
       "      <td>0.822329</td>\n",
       "      <td>0.112082</td>\n",
       "      <td>0.091337</td>\n",
       "      <td>1.0</td>\n",
       "    </tr>\n",
       "    <tr>\n",
       "      <th>3</th>\n",
       "      <td>148000.000000</td>\n",
       "      <td>74606.000000</td>\n",
       "      <td>33868.000000</td>\n",
       "      <td>3556.000000</td>\n",
       "      <td>2261.0</td>\n",
       "      <td>33354.000000</td>\n",
       "      <td>2</td>\n",
       "      <td>11394.000000</td>\n",
       "      <td>67353.000000</td>\n",
       "      <td>0</td>\n",
       "      <td>...</td>\n",
       "      <td>6500.000000</td>\n",
       "      <td>34.280000</td>\n",
       "      <td>22.050000</td>\n",
       "      <td>8.810000</td>\n",
       "      <td>0.002885</td>\n",
       "      <td>1.069653</td>\n",
       "      <td>0.484871</td>\n",
       "      <td>0.097150</td>\n",
       "      <td>0.219662</td>\n",
       "      <td>1.0</td>\n",
       "    </tr>\n",
       "    <tr>\n",
       "      <th>4</th>\n",
       "      <td>110333.333333</td>\n",
       "      <td>55750.666667</td>\n",
       "      <td>9764.666667</td>\n",
       "      <td>14421.666667</td>\n",
       "      <td>4577.0</td>\n",
       "      <td>25626.333333</td>\n",
       "      <td>2</td>\n",
       "      <td>5573.666667</td>\n",
       "      <td>54067.333333</td>\n",
       "      <td>0</td>\n",
       "      <td>...</td>\n",
       "      <td>3266.666667</td>\n",
       "      <td>32.026667</td>\n",
       "      <td>22.696667</td>\n",
       "      <td>8.766667</td>\n",
       "      <td>0.233405</td>\n",
       "      <td>1.092766</td>\n",
       "      <td>0.559566</td>\n",
       "      <td>0.028106</td>\n",
       "      <td>0.216887</td>\n",
       "      <td>1.0</td>\n",
       "    </tr>\n",
       "  </tbody>\n",
       "</table>\n",
       "<p>5 rows × 23 columns</p>\n",
       "</div>"
      ],
      "text/plain": [
       "   adult_obesity  total_population  hispanic_or_latino_population_number_mean  \\\n",
       "0  140500.000000      79532.000000                               28172.500000   \n",
       "1  133000.000000      84458.000000                               22477.000000   \n",
       "2  159750.000000      53749.750000                               16572.250000   \n",
       "3  148000.000000      74606.000000                               33868.000000   \n",
       "4  110333.333333      55750.666667                                9764.666667   \n",
       "\n",
       "   non_hispanic_african_american_or_black_population_number_mean  \\\n",
       "0                                        5053.500000               \n",
       "1                                        6551.000000               \n",
       "2                                        2050.750000               \n",
       "3                                        3556.000000               \n",
       "4                                       14421.666667               \n",
       "\n",
       "   non_hispanic_asian_or_pacific_islander_population_number_mean  \\\n",
       "0                                             2817.0               \n",
       "1                                             3373.0               \n",
       "2                                             2369.0               \n",
       "3                                             2261.0               \n",
       "4                                             4577.0               \n",
       "\n",
       "   non_hispanic_white_population_number_mean  park_count  \\\n",
       "0                               41541.500000           2   \n",
       "1                               49729.000000           2   \n",
       "2                               31349.750000           1   \n",
       "3                               33354.000000           2   \n",
       "4                               25626.333333           2   \n",
       "\n",
       "   population_no_health_insurance  median_household_income  hospital_count  \\\n",
       "0                    10409.000000             73183.000000               0   \n",
       "1                     9424.000000             79013.000000               1   \n",
       "2                     6492.250000             80099.250000               0   \n",
       "3                    11394.000000             67353.000000               0   \n",
       "4                     5573.666667             54067.333333               0   \n",
       "\n",
       "   ...  diabetes_population_number  air_quality_index_number  \\\n",
       "0  ...                 5600.000000                 33.310000   \n",
       "1  ...                 4700.000000                 32.340000   \n",
       "2  ...                 4275.000000                 33.925000   \n",
       "3  ...                 6500.000000                 34.280000   \n",
       "4  ...                 3266.666667                 32.026667   \n",
       "\n",
       "   air_quality_PM10_number\\t  air_quality_PM25_number  nearest_park_distance  \\\n",
       "0                  22.205000                 8.800000               0.107567   \n",
       "1                  22.360000                 8.790000               0.175790   \n",
       "2                  21.720000                 8.800000               0.223092   \n",
       "3                  22.050000                 8.810000               0.002885   \n",
       "4                  22.696667                 8.766667               0.233405   \n",
       "\n",
       "   nearest_hospital_distance  nearest_cta_rail_station_distance  \\\n",
       "0                   0.569742                           0.090404   \n",
       "1                   0.071033                           0.435950   \n",
       "2                   1.569618                           0.822329   \n",
       "3                   1.069653                           0.484871   \n",
       "4                   1.092766                           0.559566   \n",
       "\n",
       "   nearest_bus_station_distance  nearest_bike_station_distance  \\\n",
       "0                      0.054090                       0.072335   \n",
       "1                      0.067718                       0.054763   \n",
       "2                      0.112082                       0.091337   \n",
       "3                      0.097150                       0.219662   \n",
       "4                      0.028106                       0.216887   \n",
       "\n",
       "   bike_station_count  \n",
       "0                 2.0  \n",
       "1                 3.0  \n",
       "2                 1.0  \n",
       "3                 1.0  \n",
       "4                 1.0  \n",
       "\n",
       "[5 rows x 23 columns]"
      ]
     },
     "execution_count": 20,
     "metadata": {},
     "output_type": "execute_result"
    }
   ],
   "source": [
    "X.head()"
   ]
  },
  {
   "cell_type": "code",
   "execution_count": 21,
   "metadata": {
    "executionInfo": {
     "elapsed": 829,
     "status": "ok",
     "timestamp": 1605637516230,
     "user": {
      "displayName": "Alireza Karduni",
      "photoUrl": "",
      "userId": "16608708813703075774"
     },
     "user_tz": 300
    },
    "id": "5CrNYBi5c2DY"
   },
   "outputs": [],
   "source": [
    "min_max_scaler = MinMaxScaler()"
   ]
  },
  {
   "cell_type": "code",
   "execution_count": 22,
   "metadata": {
    "executionInfo": {
     "elapsed": 518,
     "status": "ok",
     "timestamp": 1605637516420,
     "user": {
      "displayName": "Alireza Karduni",
      "photoUrl": "",
      "userId": "16608708813703075774"
     },
     "user_tz": 300
    },
    "id": "k6IOxypccLFM"
   },
   "outputs": [],
   "source": [
    "X[X.columns] = min_max_scaler.fit_transform(X)"
   ]
  },
  {
   "cell_type": "code",
   "execution_count": 23,
   "metadata": {
    "colab": {
     "base_uri": "https://localhost:8080/",
     "height": 439
    },
    "executionInfo": {
     "elapsed": 682,
     "status": "ok",
     "timestamp": 1605637517701,
     "user": {
      "displayName": "Alireza Karduni",
      "photoUrl": "",
      "userId": "16608708813703075774"
     },
     "user_tz": 300
    },
    "id": "TYopQgp2c6rT",
    "outputId": "54caa7bf-491e-40d4-fc6e-fe6b76bd90bf"
   },
   "outputs": [
    {
     "data": {
      "text/html": [
       "<div>\n",
       "<style scoped>\n",
       "    .dataframe tbody tr th:only-of-type {\n",
       "        vertical-align: middle;\n",
       "    }\n",
       "\n",
       "    .dataframe tbody tr th {\n",
       "        vertical-align: top;\n",
       "    }\n",
       "\n",
       "    .dataframe thead th {\n",
       "        text-align: right;\n",
       "    }\n",
       "</style>\n",
       "<table border=\"1\" class=\"dataframe\">\n",
       "  <thead>\n",
       "    <tr style=\"text-align: right;\">\n",
       "      <th></th>\n",
       "      <th>adult_obesity</th>\n",
       "      <th>total_population</th>\n",
       "      <th>hispanic_or_latino_population_number_mean</th>\n",
       "      <th>non_hispanic_african_american_or_black_population_number_mean</th>\n",
       "      <th>non_hispanic_asian_or_pacific_islander_population_number_mean</th>\n",
       "      <th>non_hispanic_white_population_number_mean</th>\n",
       "      <th>park_count</th>\n",
       "      <th>population_no_health_insurance</th>\n",
       "      <th>median_household_income</th>\n",
       "      <th>hospital_count</th>\n",
       "      <th>...</th>\n",
       "      <th>diabetes_population_number</th>\n",
       "      <th>air_quality_index_number</th>\n",
       "      <th>air_quality_PM10_number\\t</th>\n",
       "      <th>air_quality_PM25_number</th>\n",
       "      <th>nearest_park_distance</th>\n",
       "      <th>nearest_hospital_distance</th>\n",
       "      <th>nearest_cta_rail_station_distance</th>\n",
       "      <th>nearest_bus_station_distance</th>\n",
       "      <th>nearest_bike_station_distance</th>\n",
       "      <th>bike_station_count</th>\n",
       "    </tr>\n",
       "  </thead>\n",
       "  <tbody>\n",
       "    <tr>\n",
       "      <th>0</th>\n",
       "      <td>0.308791</td>\n",
       "      <td>0.786628</td>\n",
       "      <td>0.446812</td>\n",
       "      <td>0.062502</td>\n",
       "      <td>0.169281</td>\n",
       "      <td>0.526560</td>\n",
       "      <td>0.4</td>\n",
       "      <td>0.532468</td>\n",
       "      <td>0.624494</td>\n",
       "      <td>0.000000</td>\n",
       "      <td>...</td>\n",
       "      <td>0.636364</td>\n",
       "      <td>0.378731</td>\n",
       "      <td>0.891409</td>\n",
       "      <td>0.268966</td>\n",
       "      <td>0.018361</td>\n",
       "      <td>0.088000</td>\n",
       "      <td>0.011157</td>\n",
       "      <td>0.009420</td>\n",
       "      <td>0.005863</td>\n",
       "      <td>0.2</td>\n",
       "    </tr>\n",
       "    <tr>\n",
       "      <th>1</th>\n",
       "      <td>0.292308</td>\n",
       "      <td>0.838293</td>\n",
       "      <td>0.356264</td>\n",
       "      <td>0.081318</td>\n",
       "      <td>0.202692</td>\n",
       "      <td>0.630433</td>\n",
       "      <td>0.4</td>\n",
       "      <td>0.479607</td>\n",
       "      <td>0.686446</td>\n",
       "      <td>0.333333</td>\n",
       "      <td>...</td>\n",
       "      <td>0.534091</td>\n",
       "      <td>0.318408</td>\n",
       "      <td>0.897631</td>\n",
       "      <td>0.262069</td>\n",
       "      <td>0.030327</td>\n",
       "      <td>0.004531</td>\n",
       "      <td>0.057436</td>\n",
       "      <td>0.011970</td>\n",
       "      <td>0.004200</td>\n",
       "      <td>0.3</td>\n",
       "    </tr>\n",
       "    <tr>\n",
       "      <th>2</th>\n",
       "      <td>0.351099</td>\n",
       "      <td>0.516217</td>\n",
       "      <td>0.262389</td>\n",
       "      <td>0.024774</td>\n",
       "      <td>0.142359</td>\n",
       "      <td>0.397259</td>\n",
       "      <td>0.2</td>\n",
       "      <td>0.322274</td>\n",
       "      <td>0.697989</td>\n",
       "      <td>0.000000</td>\n",
       "      <td>...</td>\n",
       "      <td>0.485795</td>\n",
       "      <td>0.416978</td>\n",
       "      <td>0.871939</td>\n",
       "      <td>0.268966</td>\n",
       "      <td>0.038624</td>\n",
       "      <td>0.255351</td>\n",
       "      <td>0.109183</td>\n",
       "      <td>0.020268</td>\n",
       "      <td>0.007661</td>\n",
       "      <td>0.1</td>\n",
       "    </tr>\n",
       "    <tr>\n",
       "      <th>3</th>\n",
       "      <td>0.325275</td>\n",
       "      <td>0.734963</td>\n",
       "      <td>0.537361</td>\n",
       "      <td>0.043687</td>\n",
       "      <td>0.135869</td>\n",
       "      <td>0.422687</td>\n",
       "      <td>0.4</td>\n",
       "      <td>0.585328</td>\n",
       "      <td>0.562542</td>\n",
       "      <td>0.000000</td>\n",
       "      <td>...</td>\n",
       "      <td>0.738636</td>\n",
       "      <td>0.439055</td>\n",
       "      <td>0.885187</td>\n",
       "      <td>0.275862</td>\n",
       "      <td>0.000000</td>\n",
       "      <td>0.171671</td>\n",
       "      <td>0.063988</td>\n",
       "      <td>0.017475</td>\n",
       "      <td>0.019806</td>\n",
       "      <td>0.1</td>\n",
       "    </tr>\n",
       "    <tr>\n",
       "      <th>4</th>\n",
       "      <td>0.242491</td>\n",
       "      <td>0.537203</td>\n",
       "      <td>0.154160</td>\n",
       "      <td>0.180209</td>\n",
       "      <td>0.275044</td>\n",
       "      <td>0.324647</td>\n",
       "      <td>0.4</td>\n",
       "      <td>0.272978</td>\n",
       "      <td>0.421363</td>\n",
       "      <td>0.000000</td>\n",
       "      <td>...</td>\n",
       "      <td>0.371212</td>\n",
       "      <td>0.298922</td>\n",
       "      <td>0.911147</td>\n",
       "      <td>0.245977</td>\n",
       "      <td>0.040433</td>\n",
       "      <td>0.175539</td>\n",
       "      <td>0.073991</td>\n",
       "      <td>0.004560</td>\n",
       "      <td>0.019543</td>\n",
       "      <td>0.1</td>\n",
       "    </tr>\n",
       "    <tr>\n",
       "      <th>...</th>\n",
       "      <td>...</td>\n",
       "      <td>...</td>\n",
       "      <td>...</td>\n",
       "      <td>...</td>\n",
       "      <td>...</td>\n",
       "      <td>...</td>\n",
       "      <td>...</td>\n",
       "      <td>...</td>\n",
       "      <td>...</td>\n",
       "      <td>...</td>\n",
       "      <td>...</td>\n",
       "      <td>...</td>\n",
       "      <td>...</td>\n",
       "      <td>...</td>\n",
       "      <td>...</td>\n",
       "      <td>...</td>\n",
       "      <td>...</td>\n",
       "      <td>...</td>\n",
       "      <td>...</td>\n",
       "      <td>...</td>\n",
       "      <td>...</td>\n",
       "    </tr>\n",
       "    <tr>\n",
       "      <th>1233</th>\n",
       "      <td>0.278022</td>\n",
       "      <td>0.077214</td>\n",
       "      <td>0.068243</td>\n",
       "      <td>0.061968</td>\n",
       "      <td>0.000030</td>\n",
       "      <td>0.030524</td>\n",
       "      <td>0.0</td>\n",
       "      <td>0.056805</td>\n",
       "      <td>0.344403</td>\n",
       "      <td>0.000000</td>\n",
       "      <td>...</td>\n",
       "      <td>0.261364</td>\n",
       "      <td>0.276741</td>\n",
       "      <td>0.958852</td>\n",
       "      <td>0.072414</td>\n",
       "      <td>0.058770</td>\n",
       "      <td>0.700794</td>\n",
       "      <td>0.742663</td>\n",
       "      <td>0.038307</td>\n",
       "      <td>0.022058</td>\n",
       "      <td>0.1</td>\n",
       "    </tr>\n",
       "    <tr>\n",
       "      <th>1234</th>\n",
       "      <td>0.147253</td>\n",
       "      <td>0.255787</td>\n",
       "      <td>0.037297</td>\n",
       "      <td>0.201083</td>\n",
       "      <td>0.006610</td>\n",
       "      <td>0.122453</td>\n",
       "      <td>0.0</td>\n",
       "      <td>0.101374</td>\n",
       "      <td>0.474066</td>\n",
       "      <td>0.000000</td>\n",
       "      <td>...</td>\n",
       "      <td>0.250000</td>\n",
       "      <td>0.484453</td>\n",
       "      <td>0.922521</td>\n",
       "      <td>0.172414</td>\n",
       "      <td>0.056197</td>\n",
       "      <td>0.293321</td>\n",
       "      <td>0.564637</td>\n",
       "      <td>0.098403</td>\n",
       "      <td>0.135421</td>\n",
       "      <td>0.0</td>\n",
       "    </tr>\n",
       "    <tr>\n",
       "      <th>1235</th>\n",
       "      <td>0.147253</td>\n",
       "      <td>0.255787</td>\n",
       "      <td>0.037297</td>\n",
       "      <td>0.201083</td>\n",
       "      <td>0.006610</td>\n",
       "      <td>0.122453</td>\n",
       "      <td>0.0</td>\n",
       "      <td>0.101374</td>\n",
       "      <td>0.474066</td>\n",
       "      <td>0.000000</td>\n",
       "      <td>...</td>\n",
       "      <td>0.250000</td>\n",
       "      <td>0.484453</td>\n",
       "      <td>0.922521</td>\n",
       "      <td>0.172414</td>\n",
       "      <td>0.102028</td>\n",
       "      <td>0.214446</td>\n",
       "      <td>0.609258</td>\n",
       "      <td>0.074673</td>\n",
       "      <td>0.173136</td>\n",
       "      <td>0.0</td>\n",
       "    </tr>\n",
       "    <tr>\n",
       "      <th>1236</th>\n",
       "      <td>0.139560</td>\n",
       "      <td>0.213399</td>\n",
       "      <td>0.027647</td>\n",
       "      <td>0.144316</td>\n",
       "      <td>0.005979</td>\n",
       "      <td>0.137386</td>\n",
       "      <td>0.0</td>\n",
       "      <td>0.060266</td>\n",
       "      <td>0.654769</td>\n",
       "      <td>0.000000</td>\n",
       "      <td>...</td>\n",
       "      <td>0.198864</td>\n",
       "      <td>0.464863</td>\n",
       "      <td>0.924328</td>\n",
       "      <td>0.151724</td>\n",
       "      <td>0.040772</td>\n",
       "      <td>0.253402</td>\n",
       "      <td>0.490846</td>\n",
       "      <td>0.086028</td>\n",
       "      <td>0.091853</td>\n",
       "      <td>0.0</td>\n",
       "    </tr>\n",
       "    <tr>\n",
       "      <th>1237</th>\n",
       "      <td>0.147253</td>\n",
       "      <td>0.255787</td>\n",
       "      <td>0.037297</td>\n",
       "      <td>0.201083</td>\n",
       "      <td>0.006610</td>\n",
       "      <td>0.122453</td>\n",
       "      <td>0.2</td>\n",
       "      <td>0.101374</td>\n",
       "      <td>0.474066</td>\n",
       "      <td>0.000000</td>\n",
       "      <td>...</td>\n",
       "      <td>0.250000</td>\n",
       "      <td>0.484453</td>\n",
       "      <td>0.922521</td>\n",
       "      <td>0.172414</td>\n",
       "      <td>0.062512</td>\n",
       "      <td>0.336422</td>\n",
       "      <td>0.524780</td>\n",
       "      <td>0.007879</td>\n",
       "      <td>0.105662</td>\n",
       "      <td>0.0</td>\n",
       "    </tr>\n",
       "  </tbody>\n",
       "</table>\n",
       "<p>1238 rows × 23 columns</p>\n",
       "</div>"
      ],
      "text/plain": [
       "      adult_obesity  total_population  \\\n",
       "0          0.308791          0.786628   \n",
       "1          0.292308          0.838293   \n",
       "2          0.351099          0.516217   \n",
       "3          0.325275          0.734963   \n",
       "4          0.242491          0.537203   \n",
       "...             ...               ...   \n",
       "1233       0.278022          0.077214   \n",
       "1234       0.147253          0.255787   \n",
       "1235       0.147253          0.255787   \n",
       "1236       0.139560          0.213399   \n",
       "1237       0.147253          0.255787   \n",
       "\n",
       "      hispanic_or_latino_population_number_mean  \\\n",
       "0                                      0.446812   \n",
       "1                                      0.356264   \n",
       "2                                      0.262389   \n",
       "3                                      0.537361   \n",
       "4                                      0.154160   \n",
       "...                                         ...   \n",
       "1233                                   0.068243   \n",
       "1234                                   0.037297   \n",
       "1235                                   0.037297   \n",
       "1236                                   0.027647   \n",
       "1237                                   0.037297   \n",
       "\n",
       "      non_hispanic_african_american_or_black_population_number_mean  \\\n",
       "0                                              0.062502               \n",
       "1                                              0.081318               \n",
       "2                                              0.024774               \n",
       "3                                              0.043687               \n",
       "4                                              0.180209               \n",
       "...                                                 ...               \n",
       "1233                                           0.061968               \n",
       "1234                                           0.201083               \n",
       "1235                                           0.201083               \n",
       "1236                                           0.144316               \n",
       "1237                                           0.201083               \n",
       "\n",
       "      non_hispanic_asian_or_pacific_islander_population_number_mean  \\\n",
       "0                                              0.169281               \n",
       "1                                              0.202692               \n",
       "2                                              0.142359               \n",
       "3                                              0.135869               \n",
       "4                                              0.275044               \n",
       "...                                                 ...               \n",
       "1233                                           0.000030               \n",
       "1234                                           0.006610               \n",
       "1235                                           0.006610               \n",
       "1236                                           0.005979               \n",
       "1237                                           0.006610               \n",
       "\n",
       "      non_hispanic_white_population_number_mean  park_count  \\\n",
       "0                                      0.526560         0.4   \n",
       "1                                      0.630433         0.4   \n",
       "2                                      0.397259         0.2   \n",
       "3                                      0.422687         0.4   \n",
       "4                                      0.324647         0.4   \n",
       "...                                         ...         ...   \n",
       "1233                                   0.030524         0.0   \n",
       "1234                                   0.122453         0.0   \n",
       "1235                                   0.122453         0.0   \n",
       "1236                                   0.137386         0.0   \n",
       "1237                                   0.122453         0.2   \n",
       "\n",
       "      population_no_health_insurance  median_household_income  hospital_count  \\\n",
       "0                           0.532468                 0.624494        0.000000   \n",
       "1                           0.479607                 0.686446        0.333333   \n",
       "2                           0.322274                 0.697989        0.000000   \n",
       "3                           0.585328                 0.562542        0.000000   \n",
       "4                           0.272978                 0.421363        0.000000   \n",
       "...                              ...                      ...             ...   \n",
       "1233                        0.056805                 0.344403        0.000000   \n",
       "1234                        0.101374                 0.474066        0.000000   \n",
       "1235                        0.101374                 0.474066        0.000000   \n",
       "1236                        0.060266                 0.654769        0.000000   \n",
       "1237                        0.101374                 0.474066        0.000000   \n",
       "\n",
       "      ...  diabetes_population_number  air_quality_index_number  \\\n",
       "0     ...                    0.636364                  0.378731   \n",
       "1     ...                    0.534091                  0.318408   \n",
       "2     ...                    0.485795                  0.416978   \n",
       "3     ...                    0.738636                  0.439055   \n",
       "4     ...                    0.371212                  0.298922   \n",
       "...   ...                         ...                       ...   \n",
       "1233  ...                    0.261364                  0.276741   \n",
       "1234  ...                    0.250000                  0.484453   \n",
       "1235  ...                    0.250000                  0.484453   \n",
       "1236  ...                    0.198864                  0.464863   \n",
       "1237  ...                    0.250000                  0.484453   \n",
       "\n",
       "      air_quality_PM10_number\\t  air_quality_PM25_number  \\\n",
       "0                      0.891409                 0.268966   \n",
       "1                      0.897631                 0.262069   \n",
       "2                      0.871939                 0.268966   \n",
       "3                      0.885187                 0.275862   \n",
       "4                      0.911147                 0.245977   \n",
       "...                         ...                      ...   \n",
       "1233                   0.958852                 0.072414   \n",
       "1234                   0.922521                 0.172414   \n",
       "1235                   0.922521                 0.172414   \n",
       "1236                   0.924328                 0.151724   \n",
       "1237                   0.922521                 0.172414   \n",
       "\n",
       "      nearest_park_distance  nearest_hospital_distance  \\\n",
       "0                  0.018361                   0.088000   \n",
       "1                  0.030327                   0.004531   \n",
       "2                  0.038624                   0.255351   \n",
       "3                  0.000000                   0.171671   \n",
       "4                  0.040433                   0.175539   \n",
       "...                     ...                        ...   \n",
       "1233               0.058770                   0.700794   \n",
       "1234               0.056197                   0.293321   \n",
       "1235               0.102028                   0.214446   \n",
       "1236               0.040772                   0.253402   \n",
       "1237               0.062512                   0.336422   \n",
       "\n",
       "      nearest_cta_rail_station_distance  nearest_bus_station_distance  \\\n",
       "0                              0.011157                      0.009420   \n",
       "1                              0.057436                      0.011970   \n",
       "2                              0.109183                      0.020268   \n",
       "3                              0.063988                      0.017475   \n",
       "4                              0.073991                      0.004560   \n",
       "...                                 ...                           ...   \n",
       "1233                           0.742663                      0.038307   \n",
       "1234                           0.564637                      0.098403   \n",
       "1235                           0.609258                      0.074673   \n",
       "1236                           0.490846                      0.086028   \n",
       "1237                           0.524780                      0.007879   \n",
       "\n",
       "      nearest_bike_station_distance  bike_station_count  \n",
       "0                          0.005863                 0.2  \n",
       "1                          0.004200                 0.3  \n",
       "2                          0.007661                 0.1  \n",
       "3                          0.019806                 0.1  \n",
       "4                          0.019543                 0.1  \n",
       "...                             ...                 ...  \n",
       "1233                       0.022058                 0.1  \n",
       "1234                       0.135421                 0.0  \n",
       "1235                       0.173136                 0.0  \n",
       "1236                       0.091853                 0.0  \n",
       "1237                       0.105662                 0.0  \n",
       "\n",
       "[1238 rows x 23 columns]"
      ]
     },
     "execution_count": 23,
     "metadata": {},
     "output_type": "execute_result"
    }
   ],
   "source": [
    "X"
   ]
  },
  {
   "cell_type": "code",
   "execution_count": 24,
   "metadata": {
    "executionInfo": {
     "elapsed": 780,
     "status": "ok",
     "timestamp": 1605637535274,
     "user": {
      "displayName": "Alireza Karduni",
      "photoUrl": "",
      "userId": "16608708813703075774"
     },
     "user_tz": 300
    },
    "id": "-r2fKzbubzki"
   },
   "outputs": [],
   "source": [
    "X[race.columns] = race"
   ]
  },
  {
   "cell_type": "code",
   "execution_count": 25,
   "metadata": {
    "colab": {
     "base_uri": "https://localhost:8080/",
     "height": 385
    },
    "executionInfo": {
     "elapsed": 756,
     "status": "ok",
     "timestamp": 1605637585188,
     "user": {
      "displayName": "Alireza Karduni",
      "photoUrl": "",
      "userId": "16608708813703075774"
     },
     "user_tz": 300
    },
    "id": "SRo0Sbpba6SB",
    "outputId": "5f69aa02-92da-4324-f98f-646995b8a43d"
   },
   "outputs": [
    {
     "data": {
      "text/html": [
       "<div>\n",
       "<style scoped>\n",
       "    .dataframe tbody tr th:only-of-type {\n",
       "        vertical-align: middle;\n",
       "    }\n",
       "\n",
       "    .dataframe tbody tr th {\n",
       "        vertical-align: top;\n",
       "    }\n",
       "\n",
       "    .dataframe thead th {\n",
       "        text-align: right;\n",
       "    }\n",
       "</style>\n",
       "<table border=\"1\" class=\"dataframe\">\n",
       "  <thead>\n",
       "    <tr style=\"text-align: right;\">\n",
       "      <th></th>\n",
       "      <th>adult_obesity</th>\n",
       "      <th>total_population</th>\n",
       "      <th>hispanic_or_latino_population_number_mean</th>\n",
       "      <th>non_hispanic_african_american_or_black_population_number_mean</th>\n",
       "      <th>non_hispanic_asian_or_pacific_islander_population_number_mean</th>\n",
       "      <th>non_hispanic_white_population_number_mean</th>\n",
       "      <th>park_count</th>\n",
       "      <th>population_no_health_insurance</th>\n",
       "      <th>median_household_income</th>\n",
       "      <th>hospital_count</th>\n",
       "      <th>...</th>\n",
       "      <th>air_quality_PM25_number</th>\n",
       "      <th>nearest_park_distance</th>\n",
       "      <th>nearest_hospital_distance</th>\n",
       "      <th>nearest_cta_rail_station_distance</th>\n",
       "      <th>nearest_bus_station_distance</th>\n",
       "      <th>nearest_bike_station_distance</th>\n",
       "      <th>bike_station_count</th>\n",
       "      <th>Hispanic or Latino</th>\n",
       "      <th>Non-Hispanic African American or Black</th>\n",
       "      <th>Non-Hispanic Asian or Pacific Islander</th>\n",
       "    </tr>\n",
       "  </thead>\n",
       "  <tbody>\n",
       "    <tr>\n",
       "      <th>count</th>\n",
       "      <td>1238.000000</td>\n",
       "      <td>1238.000000</td>\n",
       "      <td>1238.000000</td>\n",
       "      <td>1238.000000</td>\n",
       "      <td>1238.000000</td>\n",
       "      <td>1238.000000</td>\n",
       "      <td>1238.000000</td>\n",
       "      <td>1238.000000</td>\n",
       "      <td>1238.000000</td>\n",
       "      <td>1238.000000</td>\n",
       "      <td>...</td>\n",
       "      <td>1238.000000</td>\n",
       "      <td>1238.000000</td>\n",
       "      <td>1238.000000</td>\n",
       "      <td>1238.000000</td>\n",
       "      <td>1238.000000</td>\n",
       "      <td>1238.000000</td>\n",
       "      <td>1238.000000</td>\n",
       "      <td>1238.000000</td>\n",
       "      <td>1238.000000</td>\n",
       "      <td>1238.000000</td>\n",
       "    </tr>\n",
       "    <tr>\n",
       "      <th>mean</th>\n",
       "      <td>0.339674</td>\n",
       "      <td>0.360842</td>\n",
       "      <td>0.171063</td>\n",
       "      <td>0.156092</td>\n",
       "      <td>0.121419</td>\n",
       "      <td>0.162810</td>\n",
       "      <td>0.099515</td>\n",
       "      <td>0.275763</td>\n",
       "      <td>0.381031</td>\n",
       "      <td>0.011847</td>\n",
       "      <td>...</td>\n",
       "      <td>0.261890</td>\n",
       "      <td>0.096309</td>\n",
       "      <td>0.267530</td>\n",
       "      <td>0.227245</td>\n",
       "      <td>0.067782</td>\n",
       "      <td>0.140076</td>\n",
       "      <td>0.052181</td>\n",
       "      <td>0.476575</td>\n",
       "      <td>0.449111</td>\n",
       "      <td>0.074313</td>\n",
       "    </tr>\n",
       "    <tr>\n",
       "      <th>std</th>\n",
       "      <td>0.198895</td>\n",
       "      <td>0.233087</td>\n",
       "      <td>0.194681</td>\n",
       "      <td>0.204044</td>\n",
       "      <td>0.179043</td>\n",
       "      <td>0.190317</td>\n",
       "      <td>0.149534</td>\n",
       "      <td>0.226502</td>\n",
       "      <td>0.220393</td>\n",
       "      <td>0.068629</td>\n",
       "      <td>...</td>\n",
       "      <td>0.231289</td>\n",
       "      <td>0.147768</td>\n",
       "      <td>0.184220</td>\n",
       "      <td>0.203626</td>\n",
       "      <td>0.145820</td>\n",
       "      <td>0.204069</td>\n",
       "      <td>0.101759</td>\n",
       "      <td>0.499653</td>\n",
       "      <td>0.497605</td>\n",
       "      <td>0.262386</td>\n",
       "    </tr>\n",
       "    <tr>\n",
       "      <th>min</th>\n",
       "      <td>0.000000</td>\n",
       "      <td>0.000000</td>\n",
       "      <td>0.000000</td>\n",
       "      <td>0.000000</td>\n",
       "      <td>0.000000</td>\n",
       "      <td>0.000000</td>\n",
       "      <td>0.000000</td>\n",
       "      <td>0.000000</td>\n",
       "      <td>0.000000</td>\n",
       "      <td>0.000000</td>\n",
       "      <td>...</td>\n",
       "      <td>0.000000</td>\n",
       "      <td>0.000000</td>\n",
       "      <td>0.000000</td>\n",
       "      <td>0.000000</td>\n",
       "      <td>0.000000</td>\n",
       "      <td>0.000000</td>\n",
       "      <td>0.000000</td>\n",
       "      <td>0.000000</td>\n",
       "      <td>0.000000</td>\n",
       "      <td>0.000000</td>\n",
       "    </tr>\n",
       "    <tr>\n",
       "      <th>25%</th>\n",
       "      <td>0.200000</td>\n",
       "      <td>0.180660</td>\n",
       "      <td>0.032544</td>\n",
       "      <td>0.010133</td>\n",
       "      <td>0.006550</td>\n",
       "      <td>0.022635</td>\n",
       "      <td>0.000000</td>\n",
       "      <td>0.111678</td>\n",
       "      <td>0.201373</td>\n",
       "      <td>0.000000</td>\n",
       "      <td>...</td>\n",
       "      <td>0.131034</td>\n",
       "      <td>0.035055</td>\n",
       "      <td>0.131918</td>\n",
       "      <td>0.071934</td>\n",
       "      <td>0.012818</td>\n",
       "      <td>0.019552</td>\n",
       "      <td>0.000000</td>\n",
       "      <td>0.000000</td>\n",
       "      <td>0.000000</td>\n",
       "      <td>0.000000</td>\n",
       "    </tr>\n",
       "    <tr>\n",
       "      <th>50%</th>\n",
       "      <td>0.318681</td>\n",
       "      <td>0.309424</td>\n",
       "      <td>0.073482</td>\n",
       "      <td>0.086501</td>\n",
       "      <td>0.030527</td>\n",
       "      <td>0.079984</td>\n",
       "      <td>0.000000</td>\n",
       "      <td>0.200789</td>\n",
       "      <td>0.315222</td>\n",
       "      <td>0.000000</td>\n",
       "      <td>...</td>\n",
       "      <td>0.213793</td>\n",
       "      <td>0.057982</td>\n",
       "      <td>0.223227</td>\n",
       "      <td>0.159226</td>\n",
       "      <td>0.024053</td>\n",
       "      <td>0.044902</td>\n",
       "      <td>0.000000</td>\n",
       "      <td>0.000000</td>\n",
       "      <td>0.000000</td>\n",
       "      <td>0.000000</td>\n",
       "    </tr>\n",
       "    <tr>\n",
       "      <th>75%</th>\n",
       "      <td>0.457143</td>\n",
       "      <td>0.494926</td>\n",
       "      <td>0.259237</td>\n",
       "      <td>0.232193</td>\n",
       "      <td>0.140887</td>\n",
       "      <td>0.215748</td>\n",
       "      <td>0.200000</td>\n",
       "      <td>0.383815</td>\n",
       "      <td>0.491068</td>\n",
       "      <td>0.000000</td>\n",
       "      <td>...</td>\n",
       "      <td>0.268966</td>\n",
       "      <td>0.088017</td>\n",
       "      <td>0.360979</td>\n",
       "      <td>0.318360</td>\n",
       "      <td>0.048331</td>\n",
       "      <td>0.168677</td>\n",
       "      <td>0.100000</td>\n",
       "      <td>1.000000</td>\n",
       "      <td>1.000000</td>\n",
       "      <td>0.000000</td>\n",
       "    </tr>\n",
       "    <tr>\n",
       "      <th>max</th>\n",
       "      <td>1.000000</td>\n",
       "      <td>1.000000</td>\n",
       "      <td>1.000000</td>\n",
       "      <td>1.000000</td>\n",
       "      <td>1.000000</td>\n",
       "      <td>1.000000</td>\n",
       "      <td>1.000000</td>\n",
       "      <td>1.000000</td>\n",
       "      <td>1.000000</td>\n",
       "      <td>1.000000</td>\n",
       "      <td>...</td>\n",
       "      <td>1.000000</td>\n",
       "      <td>1.000000</td>\n",
       "      <td>1.000000</td>\n",
       "      <td>1.000000</td>\n",
       "      <td>1.000000</td>\n",
       "      <td>1.000000</td>\n",
       "      <td>1.000000</td>\n",
       "      <td>1.000000</td>\n",
       "      <td>1.000000</td>\n",
       "      <td>1.000000</td>\n",
       "    </tr>\n",
       "  </tbody>\n",
       "</table>\n",
       "<p>8 rows × 26 columns</p>\n",
       "</div>"
      ],
      "text/plain": [
       "       adult_obesity  total_population  \\\n",
       "count    1238.000000       1238.000000   \n",
       "mean        0.339674          0.360842   \n",
       "std         0.198895          0.233087   \n",
       "min         0.000000          0.000000   \n",
       "25%         0.200000          0.180660   \n",
       "50%         0.318681          0.309424   \n",
       "75%         0.457143          0.494926   \n",
       "max         1.000000          1.000000   \n",
       "\n",
       "       hispanic_or_latino_population_number_mean  \\\n",
       "count                                1238.000000   \n",
       "mean                                    0.171063   \n",
       "std                                     0.194681   \n",
       "min                                     0.000000   \n",
       "25%                                     0.032544   \n",
       "50%                                     0.073482   \n",
       "75%                                     0.259237   \n",
       "max                                     1.000000   \n",
       "\n",
       "       non_hispanic_african_american_or_black_population_number_mean  \\\n",
       "count                                        1238.000000               \n",
       "mean                                            0.156092               \n",
       "std                                             0.204044               \n",
       "min                                             0.000000               \n",
       "25%                                             0.010133               \n",
       "50%                                             0.086501               \n",
       "75%                                             0.232193               \n",
       "max                                             1.000000               \n",
       "\n",
       "       non_hispanic_asian_or_pacific_islander_population_number_mean  \\\n",
       "count                                        1238.000000               \n",
       "mean                                            0.121419               \n",
       "std                                             0.179043               \n",
       "min                                             0.000000               \n",
       "25%                                             0.006550               \n",
       "50%                                             0.030527               \n",
       "75%                                             0.140887               \n",
       "max                                             1.000000               \n",
       "\n",
       "       non_hispanic_white_population_number_mean   park_count  \\\n",
       "count                                1238.000000  1238.000000   \n",
       "mean                                    0.162810     0.099515   \n",
       "std                                     0.190317     0.149534   \n",
       "min                                     0.000000     0.000000   \n",
       "25%                                     0.022635     0.000000   \n",
       "50%                                     0.079984     0.000000   \n",
       "75%                                     0.215748     0.200000   \n",
       "max                                     1.000000     1.000000   \n",
       "\n",
       "       population_no_health_insurance  median_household_income  \\\n",
       "count                     1238.000000              1238.000000   \n",
       "mean                         0.275763                 0.381031   \n",
       "std                          0.226502                 0.220393   \n",
       "min                          0.000000                 0.000000   \n",
       "25%                          0.111678                 0.201373   \n",
       "50%                          0.200789                 0.315222   \n",
       "75%                          0.383815                 0.491068   \n",
       "max                          1.000000                 1.000000   \n",
       "\n",
       "       hospital_count  ...  air_quality_PM25_number  nearest_park_distance  \\\n",
       "count     1238.000000  ...              1238.000000            1238.000000   \n",
       "mean         0.011847  ...                 0.261890               0.096309   \n",
       "std          0.068629  ...                 0.231289               0.147768   \n",
       "min          0.000000  ...                 0.000000               0.000000   \n",
       "25%          0.000000  ...                 0.131034               0.035055   \n",
       "50%          0.000000  ...                 0.213793               0.057982   \n",
       "75%          0.000000  ...                 0.268966               0.088017   \n",
       "max          1.000000  ...                 1.000000               1.000000   \n",
       "\n",
       "       nearest_hospital_distance  nearest_cta_rail_station_distance  \\\n",
       "count                1238.000000                        1238.000000   \n",
       "mean                    0.267530                           0.227245   \n",
       "std                     0.184220                           0.203626   \n",
       "min                     0.000000                           0.000000   \n",
       "25%                     0.131918                           0.071934   \n",
       "50%                     0.223227                           0.159226   \n",
       "75%                     0.360979                           0.318360   \n",
       "max                     1.000000                           1.000000   \n",
       "\n",
       "       nearest_bus_station_distance  nearest_bike_station_distance  \\\n",
       "count                   1238.000000                    1238.000000   \n",
       "mean                       0.067782                       0.140076   \n",
       "std                        0.145820                       0.204069   \n",
       "min                        0.000000                       0.000000   \n",
       "25%                        0.012818                       0.019552   \n",
       "50%                        0.024053                       0.044902   \n",
       "75%                        0.048331                       0.168677   \n",
       "max                        1.000000                       1.000000   \n",
       "\n",
       "       bike_station_count  Hispanic or Latino  \\\n",
       "count         1238.000000         1238.000000   \n",
       "mean             0.052181            0.476575   \n",
       "std              0.101759            0.499653   \n",
       "min              0.000000            0.000000   \n",
       "25%              0.000000            0.000000   \n",
       "50%              0.000000            0.000000   \n",
       "75%              0.100000            1.000000   \n",
       "max              1.000000            1.000000   \n",
       "\n",
       "       Non-Hispanic African American or Black  \\\n",
       "count                             1238.000000   \n",
       "mean                                 0.449111   \n",
       "std                                  0.497605   \n",
       "min                                  0.000000   \n",
       "25%                                  0.000000   \n",
       "50%                                  0.000000   \n",
       "75%                                  1.000000   \n",
       "max                                  1.000000   \n",
       "\n",
       "       Non-Hispanic Asian or Pacific Islander  \n",
       "count                             1238.000000  \n",
       "mean                                 0.074313  \n",
       "std                                  0.262386  \n",
       "min                                  0.000000  \n",
       "25%                                  0.000000  \n",
       "50%                                  0.000000  \n",
       "75%                                  0.000000  \n",
       "max                                  1.000000  \n",
       "\n",
       "[8 rows x 26 columns]"
      ]
     },
     "execution_count": 25,
     "metadata": {},
     "output_type": "execute_result"
    }
   ],
   "source": [
    "X.describe()"
   ]
  },
  {
   "cell_type": "code",
   "execution_count": 26,
   "metadata": {
    "executionInfo": {
     "elapsed": 808,
     "status": "ok",
     "timestamp": 1605637635002,
     "user": {
      "displayName": "Alireza Karduni",
      "photoUrl": "",
      "userId": "16608708813703075774"
     },
     "user_tz": 300
    },
    "id": "QESifFVGb1fU"
   },
   "outputs": [],
   "source": [
    "from sklearn.cluster import KMeans"
   ]
  },
  {
   "cell_type": "code",
   "execution_count": 27,
   "metadata": {
    "executionInfo": {
     "elapsed": 764,
     "status": "ok",
     "timestamp": 1605637651184,
     "user": {
      "displayName": "Alireza Karduni",
      "photoUrl": "",
      "userId": "16608708813703075774"
     },
     "user_tz": 300
    },
    "id": "G-PKiNGka9Z5"
   },
   "outputs": [],
   "source": [
    "kmeans = KMeans(n_clusters=5)"
   ]
  },
  {
   "cell_type": "code",
   "execution_count": 28,
   "metadata": {
    "executionInfo": {
     "elapsed": 435,
     "status": "ok",
     "timestamp": 1605637716182,
     "user": {
      "displayName": "Alireza Karduni",
      "photoUrl": "",
      "userId": "16608708813703075774"
     },
     "user_tz": 300
    },
    "id": "4-2hVo0ddje8"
   },
   "outputs": [],
   "source": [
    "kmeans = kmeans.fit(X)"
   ]
  },
  {
   "cell_type": "code",
   "execution_count": 29,
   "metadata": {
    "colab": {
     "base_uri": "https://localhost:8080/"
    },
    "executionInfo": {
     "elapsed": 451,
     "status": "ok",
     "timestamp": 1605637730451,
     "user": {
      "displayName": "Alireza Karduni",
      "photoUrl": "",
      "userId": "16608708813703075774"
     },
     "user_tz": 300
    },
    "id": "bLlnPCvjdpc9",
    "outputId": "84bf1beb-3fde-4d9a-9165-9fa50002742f"
   },
   "outputs": [
    {
     "data": {
      "text/plain": [
       "array([2, 2, 2, ..., 3, 3, 3])"
      ]
     },
     "execution_count": 29,
     "metadata": {},
     "output_type": "execute_result"
    }
   ],
   "source": [
    "kmeans.labels_"
   ]
  },
  {
   "cell_type": "code",
   "execution_count": 30,
   "metadata": {
    "executionInfo": {
     "elapsed": 736,
     "status": "ok",
     "timestamp": 1605637757619,
     "user": {
      "displayName": "Alireza Karduni",
      "photoUrl": "",
      "userId": "16608708813703075774"
     },
     "user_tz": 300
    },
    "id": "tdszJFDFd0ec"
   },
   "outputs": [],
   "source": [
    "X[\"cluster\"] = kmeans.labels_"
   ]
  },
  {
   "cell_type": "code",
   "execution_count": 31,
   "metadata": {
    "executionInfo": {
     "elapsed": 423,
     "status": "ok",
     "timestamp": 1605637791055,
     "user": {
      "displayName": "Alireza Karduni",
      "photoUrl": "",
      "userId": "16608708813703075774"
     },
     "user_tz": 300
    },
    "id": "3Z9ddaC3d9eS"
   },
   "outputs": [],
   "source": [
    "df[\"cluster\"] = kmeans.labels_"
   ]
  },
  {
   "cell_type": "code",
   "execution_count": 32,
   "metadata": {
    "colab": {
     "base_uri": "https://localhost:8080/",
     "height": 275
    },
    "executionInfo": {
     "elapsed": 518,
     "status": "ok",
     "timestamp": 1605637795199,
     "user": {
      "displayName": "Alireza Karduni",
      "photoUrl": "",
      "userId": "16608708813703075774"
     },
     "user_tz": 300
    },
    "id": "7gVYBnEFd-Pc",
    "outputId": "5b3b00e1-bda5-42a3-f8d4-849663de34dc"
   },
   "outputs": [
    {
     "data": {
      "text/html": [
       "<div>\n",
       "<style scoped>\n",
       "    .dataframe tbody tr th:only-of-type {\n",
       "        vertical-align: middle;\n",
       "    }\n",
       "\n",
       "    .dataframe tbody tr th {\n",
       "        vertical-align: top;\n",
       "    }\n",
       "\n",
       "    .dataframe thead th {\n",
       "        text-align: right;\n",
       "    }\n",
       "</style>\n",
       "<table border=\"1\" class=\"dataframe\">\n",
       "  <thead>\n",
       "    <tr style=\"text-align: right;\">\n",
       "      <th></th>\n",
       "      <th>fid</th>\n",
       "      <th>id</th>\n",
       "      <th>top</th>\n",
       "      <th>right</th>\n",
       "      <th>bottom</th>\n",
       "      <th>adult_obesity</th>\n",
       "      <th>total_population</th>\n",
       "      <th>hispanic_or_latino_population_number_mean</th>\n",
       "      <th>non_hispanic_african_american_or_black_population_number_mean</th>\n",
       "      <th>non_hispanic_asian_or_pacific_islander_population_number_mean</th>\n",
       "      <th>...</th>\n",
       "      <th>nearest_hospital_distance</th>\n",
       "      <th>nearest_cta_rail_station_name</th>\n",
       "      <th>nearest_cta_rail_station_distance</th>\n",
       "      <th>nearest_bus_station_name</th>\n",
       "      <th>nearest_bus_station_distance</th>\n",
       "      <th>nearest_bike_station_name</th>\n",
       "      <th>nearest_bike_station_distance</th>\n",
       "      <th>bike_station_count</th>\n",
       "      <th>predominant_race_by_population_per_cell</th>\n",
       "      <th>cluster</th>\n",
       "    </tr>\n",
       "  </thead>\n",
       "  <tbody>\n",
       "    <tr>\n",
       "      <th>0</th>\n",
       "      <td>1</td>\n",
       "      <td>6274</td>\n",
       "      <td>1.913898e+06</td>\n",
       "      <td>1.162049e+06</td>\n",
       "      <td>1.911258e+06</td>\n",
       "      <td>140500.000000</td>\n",
       "      <td>79532.000000</td>\n",
       "      <td>28172.500000</td>\n",
       "      <td>5053.500000</td>\n",
       "      <td>2817.0</td>\n",
       "      <td>...</td>\n",
       "      <td>0.569742</td>\n",
       "      <td>Western/Milwaukee</td>\n",
       "      <td>0.090404</td>\n",
       "      <td>Milwaukee &amp; Oakley/Moffat</td>\n",
       "      <td>0.054090</td>\n",
       "      <td>Western Ave &amp; Winnebago Ave</td>\n",
       "      <td>0.072335</td>\n",
       "      <td>2.0</td>\n",
       "      <td>Hispanic or Latino</td>\n",
       "      <td>2</td>\n",
       "    </tr>\n",
       "    <tr>\n",
       "      <th>1</th>\n",
       "      <td>2</td>\n",
       "      <td>6275</td>\n",
       "      <td>1.911258e+06</td>\n",
       "      <td>1.162049e+06</td>\n",
       "      <td>1.908618e+06</td>\n",
       "      <td>133000.000000</td>\n",
       "      <td>84458.000000</td>\n",
       "      <td>22477.000000</td>\n",
       "      <td>6551.000000</td>\n",
       "      <td>3373.0</td>\n",
       "      <td>...</td>\n",
       "      <td>0.071033</td>\n",
       "      <td>Damen/Milwaukee</td>\n",
       "      <td>0.435950</td>\n",
       "      <td>Western &amp; Le Moyne</td>\n",
       "      <td>0.067718</td>\n",
       "      <td>Claremont Ave &amp; Hirsch St</td>\n",
       "      <td>0.054763</td>\n",
       "      <td>3.0</td>\n",
       "      <td>Hispanic or Latino</td>\n",
       "      <td>2</td>\n",
       "    </tr>\n",
       "    <tr>\n",
       "      <th>2</th>\n",
       "      <td>3</td>\n",
       "      <td>6272</td>\n",
       "      <td>1.919178e+06</td>\n",
       "      <td>1.162049e+06</td>\n",
       "      <td>1.916538e+06</td>\n",
       "      <td>159750.000000</td>\n",
       "      <td>53749.750000</td>\n",
       "      <td>16572.250000</td>\n",
       "      <td>2050.750000</td>\n",
       "      <td>2369.0</td>\n",
       "      <td>...</td>\n",
       "      <td>1.569618</td>\n",
       "      <td>California/Milwaukee</td>\n",
       "      <td>0.822329</td>\n",
       "      <td>Western &amp; Schubert</td>\n",
       "      <td>0.112082</td>\n",
       "      <td>Logan Blvd &amp; Elston Ave</td>\n",
       "      <td>0.091337</td>\n",
       "      <td>1.0</td>\n",
       "      <td>Hispanic or Latino</td>\n",
       "      <td>2</td>\n",
       "    </tr>\n",
       "    <tr>\n",
       "      <th>3</th>\n",
       "      <td>4</td>\n",
       "      <td>6273</td>\n",
       "      <td>1.916538e+06</td>\n",
       "      <td>1.162049e+06</td>\n",
       "      <td>1.913898e+06</td>\n",
       "      <td>148000.000000</td>\n",
       "      <td>74606.000000</td>\n",
       "      <td>33868.000000</td>\n",
       "      <td>3556.000000</td>\n",
       "      <td>2261.0</td>\n",
       "      <td>...</td>\n",
       "      <td>1.069653</td>\n",
       "      <td>Western/Milwaukee</td>\n",
       "      <td>0.484871</td>\n",
       "      <td>Western &amp; Belden</td>\n",
       "      <td>0.097150</td>\n",
       "      <td>Campbell Ave &amp; Fullerton Ave</td>\n",
       "      <td>0.219662</td>\n",
       "      <td>1.0</td>\n",
       "      <td>Hispanic or Latino</td>\n",
       "      <td>2</td>\n",
       "    </tr>\n",
       "    <tr>\n",
       "      <th>4</th>\n",
       "      <td>5</td>\n",
       "      <td>6278</td>\n",
       "      <td>1.903338e+06</td>\n",
       "      <td>1.162049e+06</td>\n",
       "      <td>1.900698e+06</td>\n",
       "      <td>110333.333333</td>\n",
       "      <td>55750.666667</td>\n",
       "      <td>9764.666667</td>\n",
       "      <td>14421.666667</td>\n",
       "      <td>4577.0</td>\n",
       "      <td>...</td>\n",
       "      <td>1.092766</td>\n",
       "      <td>California-Lake</td>\n",
       "      <td>0.559566</td>\n",
       "      <td>Western &amp; Fulton</td>\n",
       "      <td>0.028106</td>\n",
       "      <td>Artesian Ave &amp; Hubbard St</td>\n",
       "      <td>0.216887</td>\n",
       "      <td>1.0</td>\n",
       "      <td>Hispanic or Latino</td>\n",
       "      <td>2</td>\n",
       "    </tr>\n",
       "  </tbody>\n",
       "</table>\n",
       "<p>5 rows × 35 columns</p>\n",
       "</div>"
      ],
      "text/plain": [
       "   fid    id           top         right        bottom  adult_obesity  \\\n",
       "0    1  6274  1.913898e+06  1.162049e+06  1.911258e+06  140500.000000   \n",
       "1    2  6275  1.911258e+06  1.162049e+06  1.908618e+06  133000.000000   \n",
       "2    3  6272  1.919178e+06  1.162049e+06  1.916538e+06  159750.000000   \n",
       "3    4  6273  1.916538e+06  1.162049e+06  1.913898e+06  148000.000000   \n",
       "4    5  6278  1.903338e+06  1.162049e+06  1.900698e+06  110333.333333   \n",
       "\n",
       "   total_population  hispanic_or_latino_population_number_mean  \\\n",
       "0      79532.000000                               28172.500000   \n",
       "1      84458.000000                               22477.000000   \n",
       "2      53749.750000                               16572.250000   \n",
       "3      74606.000000                               33868.000000   \n",
       "4      55750.666667                                9764.666667   \n",
       "\n",
       "   non_hispanic_african_american_or_black_population_number_mean  \\\n",
       "0                                        5053.500000               \n",
       "1                                        6551.000000               \n",
       "2                                        2050.750000               \n",
       "3                                        3556.000000               \n",
       "4                                       14421.666667               \n",
       "\n",
       "   non_hispanic_asian_or_pacific_islander_population_number_mean  ...  \\\n",
       "0                                             2817.0              ...   \n",
       "1                                             3373.0              ...   \n",
       "2                                             2369.0              ...   \n",
       "3                                             2261.0              ...   \n",
       "4                                             4577.0              ...   \n",
       "\n",
       "   nearest_hospital_distance  nearest_cta_rail_station_name  \\\n",
       "0                   0.569742              Western/Milwaukee   \n",
       "1                   0.071033                Damen/Milwaukee   \n",
       "2                   1.569618           California/Milwaukee   \n",
       "3                   1.069653              Western/Milwaukee   \n",
       "4                   1.092766                California-Lake   \n",
       "\n",
       "   nearest_cta_rail_station_distance   nearest_bus_station_name  \\\n",
       "0                           0.090404  Milwaukee & Oakley/Moffat   \n",
       "1                           0.435950         Western & Le Moyne   \n",
       "2                           0.822329         Western & Schubert   \n",
       "3                           0.484871           Western & Belden   \n",
       "4                           0.559566           Western & Fulton   \n",
       "\n",
       "   nearest_bus_station_distance     nearest_bike_station_name  \\\n",
       "0                      0.054090   Western Ave & Winnebago Ave   \n",
       "1                      0.067718     Claremont Ave & Hirsch St   \n",
       "2                      0.112082       Logan Blvd & Elston Ave   \n",
       "3                      0.097150  Campbell Ave & Fullerton Ave   \n",
       "4                      0.028106     Artesian Ave & Hubbard St   \n",
       "\n",
       "   nearest_bike_station_distance  bike_station_count  \\\n",
       "0                       0.072335                 2.0   \n",
       "1                       0.054763                 3.0   \n",
       "2                       0.091337                 1.0   \n",
       "3                       0.219662                 1.0   \n",
       "4                       0.216887                 1.0   \n",
       "\n",
       "   predominant_race_by_population_per_cell  cluster  \n",
       "0                       Hispanic or Latino        2  \n",
       "1                       Hispanic or Latino        2  \n",
       "2                       Hispanic or Latino        2  \n",
       "3                       Hispanic or Latino        2  \n",
       "4                       Hispanic or Latino        2  \n",
       "\n",
       "[5 rows x 35 columns]"
      ]
     },
     "execution_count": 32,
     "metadata": {},
     "output_type": "execute_result"
    }
   ],
   "source": [
    "df.head()"
   ]
  },
  {
   "cell_type": "code",
   "execution_count": 33,
   "metadata": {
    "executionInfo": {
     "elapsed": 449,
     "status": "ok",
     "timestamp": 1605639350723,
     "user": {
      "displayName": "Alireza Karduni",
      "photoUrl": "",
      "userId": "16608708813703075774"
     },
     "user_tz": 300
    },
    "id": "biKsdm6AeZQe"
   },
   "outputs": [],
   "source": [
    "def clusterCity(X,features=None,n_clusters=5):\n",
    "  min_max_scaler = MinMaxScaler()\n",
    "  X[X.columns] = min_max_scaler.fit_transform(X)\n",
    "  if features:\n",
    "    X = X[features]\n",
    "  kmeans = KMeans(n_clusters=n_clusters,random_state=23)\n",
    "  kmeans = kmeans.fit(X)\n",
    "  return kmeans.labels_"
   ]
  },
  {
   "cell_type": "code",
   "execution_count": 34,
   "metadata": {
    "colab": {
     "base_uri": "https://localhost:8080/"
    },
    "executionInfo": {
     "elapsed": 498,
     "status": "ok",
     "timestamp": 1605639351768,
     "user": {
      "displayName": "Alireza Karduni",
      "photoUrl": "",
      "userId": "16608708813703075774"
     },
     "user_tz": 300
    },
    "id": "7hpLqAFThI36",
    "outputId": "77fc18ee-55f3-4238-f56e-d3ff1e159a7b"
   },
   "outputs": [
    {
     "data": {
      "text/plain": [
       "Index(['adult_obesity', 'total_population',\n",
       "       'hispanic_or_latino_population_number_mean',\n",
       "       'non_hispanic_african_american_or_black_population_number_mean',\n",
       "       'non_hispanic_asian_or_pacific_islander_population_number_mean',\n",
       "       'non_hispanic_white_population_number_mean', 'park_count',\n",
       "       'population_no_health_insurance', 'median_household_income',\n",
       "       'hospital_count', 'cta_rail_station_count', 'cta_bus_station_count',\n",
       "       'asthma_population_number', 'diabetes_population_number',\n",
       "       'air_quality_index_number', 'air_quality_PM10_number\\t',\n",
       "       'air_quality_PM25_number', 'nearest_park_distance',\n",
       "       'nearest_hospital_distance', 'nearest_cta_rail_station_distance',\n",
       "       'nearest_bus_station_distance', 'nearest_bike_station_distance',\n",
       "       'bike_station_count', 'Hispanic or Latino',\n",
       "       'Non-Hispanic African American or Black',\n",
       "       'Non-Hispanic Asian or Pacific Islander', 'cluster'],\n",
       "      dtype='object')"
      ]
     },
     "execution_count": 34,
     "metadata": {},
     "output_type": "execute_result"
    }
   ],
   "source": [
    "X.columns"
   ]
  },
  {
   "cell_type": "code",
   "execution_count": 35,
   "metadata": {},
   "outputs": [
    {
     "name": "stdout",
     "output_type": "stream",
     "text": [
      "adult_obesity\n"
     ]
    },
    {
     "data": {
      "image/png": "[encoded data removed]",
      "text/plain": [
       "<Figure size 432x288 with 1 Axes>"
      ]
     },
     "metadata": {},
     "output_type": "display_data"
    },
    {
     "name": "stdout",
     "output_type": "stream",
     "text": [
      "population_no_health_insurance\n"
     ]
    },
    {
     "data": {
      "image/png": "[encoded data removed]",
      "text/plain": [
       "<Figure size 432x288 with 1 Axes>"
      ]
     },
     "metadata": {},
     "output_type": "display_data"
    },
    {
     "name": "stdout",
     "output_type": "stream",
     "text": [
      "diabetes_population_number\n"
     ]
    },
    {
     "data": {
      "image/png": "[encoded data removed]",
      "text/plain": [
       "<Figure size 432x288 with 1 Axes>"
      ]
     },
     "metadata": {},
     "output_type": "display_data"
    },
    {
     "name": "stdout",
     "output_type": "stream",
     "text": [
      "nearest_park_distance\n"
     ]
    },
    {
     "data": {
      "image/png": "[encoded data removed]",
      "text/plain": [
       "<Figure size 432x288 with 1 Axes>"
      ]
     },
     "metadata": {},
     "output_type": "display_data"
    },
    {
     "name": "stdout",
     "output_type": "stream",
     "text": [
      "hospital_count\n"
     ]
    },
    {
     "data": {
      "image/png": "[encoded data removed]",
      "text/plain": [
       "<Figure size 432x288 with 1 Axes>"
      ]
     },
     "metadata": {},
     "output_type": "display_data"
    }
   ],
   "source": [
    "#https://www.geeksforgeeks.org/seaborn-categorical-plots/\n",
    "cluster_features = [\"adult_obesity\", \"population_no_health_insurance\", \"diabetes_population_number\", \"nearest_park_distance\", \"hospital_count\"]\n",
    "n_clusters = 7\n",
    "clusters = clusterCity(X,cluster_features,n_clusters)\n",
    "df[\"clusters\"] = clusters\n",
    "\n",
    "for i,f in enumerate(data[\"features\"]):\n",
    "  f[\"properties\"][\"cluster\"] = int(clusters[i])\n",
    "\n",
    "with open(\"geojsonWCluster1.geojson\",\"w\") as jsonFile:\n",
    "  jsonFile.write(json.dumps(data))\n",
    "\n",
    "df_features_clusters = df[cluster_features+[\"clusters\"]]\n",
    "\n",
    "import matplotlib.pyplot as plt\n",
    "import seaborn as sns\n",
    "sns.set()\n",
    "\n",
    "for f in cluster_features: \n",
    "  print(f)\n",
    "  sns.stripplot(x=\"clusters\", y=f, data=df_features_clusters, palette=\"PiYG\", jitter=0.3)\n",
    "  \n",
    " # https://problemsolvingwithpython.com/06-Plotting-with-Matplotlib/06.04-Saving-Plots/\n",
    " # https://futurestud.io/tutorials/matplotlib-save-plots-as-file\n",
    " # plt.xlabel('x values')\n",
    " # plt.ylabel('y values')\n",
    " # plt.title('plotted x and y values')\n",
    " # plt.legend(['line 1'])\n",
    "  \n",
    "  plt.plot()\n",
    "  #plt.savefig('fig.pdf')               \n",
    "  plt.show()      "
   ]
  },
  {
   "cell_type": "code",
   "execution_count": 36,
   "metadata": {
    "executionInfo": {
     "elapsed": 478,
     "status": "ok",
     "timestamp": 1605639353839,
     "user": {
      "displayName": "Alireza Karduni",
      "photoUrl": "",
      "userId": "16608708813703075774"
     },
     "user_tz": 300
    },
    "id": "sIb5Ndrei2pe"
   },
   "outputs": [
    {
     "name": "stdout",
     "output_type": "stream",
     "text": [
      "total_population\n"
     ]
    },
    {
     "data": {
      "image/png": "[encoded data removed]",
      "text/plain": [
       "<Figure size 432x288 with 1 Axes>"
      ]
     },
     "metadata": {},
     "output_type": "display_data"
    },
    {
     "name": "stdout",
     "output_type": "stream",
     "text": [
      "air_quality_index_number\n"
     ]
    },
    {
     "data": {
      "image/png": "[encoded data removed]",
      "text/plain": [
       "<Figure size 432x288 with 1 Axes>"
      ]
     },
     "metadata": {},
     "output_type": "display_data"
    },
    {
     "name": "stdout",
     "output_type": "stream",
     "text": [
      "nearest_hospital_distance\n"
     ]
    },
    {
     "data": {
      "image/png": "[encoded data removed]",
      "text/plain": [
       "<Figure size 432x288 with 1 Axes>"
      ]
     },
     "metadata": {},
     "output_type": "display_data"
    },
    {
     "name": "stdout",
     "output_type": "stream",
     "text": [
      "nearest_cta_rail_station_distance\n"
     ]
    },
    {
     "data": {
      "image/png": "[encoded data removed]",
      "text/plain": [
       "<Figure size 432x288 with 1 Axes>"
      ]
     },
     "metadata": {},
     "output_type": "display_data"
    }
   ],
   "source": [
    "cluster_features = [\"total_population\",\"air_quality_index_number\",\"nearest_hospital_distance\",\"nearest_cta_rail_station_distance\"]\n",
    "n_clusters = 7\n",
    "clusters = clusterCity(X,cluster_features,n_clusters)\n",
    "df[\"clusters\"] = clusters\n",
    "\n",
    "for i,f in enumerate(data[\"features\"]):\n",
    "  f[\"properties\"][\"cluster\"] = int(clusters[i])\n",
    "\n",
    "with open(\"geojsonWCluster2.geojson\",\"w\") as jsonFile:\n",
    "  jsonFile.write(json.dumps(data))\n",
    "\n",
    "df_features_clusters = df[cluster_features+[\"clusters\"]]\n",
    "\n",
    "import matplotlib.pyplot as plt\n",
    "import seaborn as sns\n",
    "sns.set()\n",
    "\n",
    "for f in cluster_features: \n",
    "  print(f)\n",
    "  sns.boxplot(x=\"clusters\", y=f, data=df_features_clusters, palette=\"PiYG\")\n",
    "  plt.show()"
   ]
  },
  {
   "cell_type": "code",
   "execution_count": 37,
   "metadata": {},
   "outputs": [
    {
     "name": "stdout",
     "output_type": "stream",
     "text": [
      "total_population\n"
     ]
    },
    {
     "data": {
      "image/png": "[encoded data removed]",
      "text/plain": [
       "<Figure size 432x288 with 1 Axes>"
      ]
     },
     "metadata": {},
     "output_type": "display_data"
    },
    {
     "name": "stdout",
     "output_type": "stream",
     "text": [
      "median_household_income\n"
     ]
    },
    {
     "data": {
      "image/png": "[encoded data removed]",
      "text/plain": [
       "<Figure size 432x288 with 1 Axes>"
      ]
     },
     "metadata": {},
     "output_type": "display_data"
    },
    {
     "name": "stdout",
     "output_type": "stream",
     "text": [
      "non_hispanic_white_population_number_mean\n"
     ]
    },
    {
     "data": {
      "image/png": "[encoded data removed]",
      "text/plain": [
       "<Figure size 432x288 with 1 Axes>"
      ]
     },
     "metadata": {},
     "output_type": "display_data"
    }
   ],
   "source": [
    "cluster_features = [\"total_population\",\"median_household_income\", \"non_hispanic_white_population_number_mean\"] \n",
    "clusters = clusterCity(X,cluster_features,n_clusters)\n",
    "df[\"clusters\"] = clusters\n",
    "\n",
    "for i,f in enumerate(data[\"features\"]):\n",
    "  f[\"properties\"][\"cluster\"] = int(clusters[i])\n",
    "\n",
    "with open(\"geojsonWCluster3.geojson\",\"w\") as jsonFile:\n",
    "  jsonFile.write(json.dumps(data))\n",
    "\n",
    "df_features_clusters = df[cluster_features+[\"clusters\"]]\n",
    "\n",
    "import matplotlib.pyplot as plt\n",
    "import seaborn as sns\n",
    "sns.set()\n",
    "\n",
    "for f in cluster_features: \n",
    "  print(f)\n",
    "  sns.violinplot(x=\"clusters\", y=f, data=df_features_clusters, palette=\"PiYG\")\n",
    "    \n",
    "  plt.show()"
   ]
  },
  {
   "cell_type": "code",
   "execution_count": 38,
   "metadata": {},
   "outputs": [
    {
     "name": "stdout",
     "output_type": "stream",
     "text": [
      "total_population\n"
     ]
    },
    {
     "data": {
      "image/png": "[encoded data removed]",
      "text/plain": [
       "<Figure size 360x360 with 1 Axes>"
      ]
     },
     "metadata": {},
     "output_type": "display_data"
    },
    {
     "name": "stdout",
     "output_type": "stream",
     "text": [
      "median_household_income\n"
     ]
    },
    {
     "data": {
      "image/png": "[encoded data removed]",
      "text/plain": [
       "<Figure size 360x360 with 1 Axes>"
      ]
     },
     "metadata": {},
     "output_type": "display_data"
    },
    {
     "name": "stdout",
     "output_type": "stream",
     "text": [
      "non_hispanic_white_population_number_mean\n"
     ]
    },
    {
     "data": {
      "image/png": "[encoded data removed]",
      "text/plain": [
       "<Figure size 360x360 with 1 Axes>"
      ]
     },
     "metadata": {},
     "output_type": "display_data"
    }
   ],
   "source": [
    "cluster_features = [\"total_population\",\"median_household_income\", \"non_hispanic_white_population_number_mean\"] \n",
    "n_clusters = 7\n",
    "clusters = clusterCity(X,cluster_features,n_clusters)\n",
    "df[\"clusters\"] = clusters\n",
    "\n",
    "for i,f in enumerate(data[\"features\"]):\n",
    "  f[\"properties\"][\"cluster\"] = int(clusters[i])\n",
    "\n",
    "with open(\"geojsonWCluster4.geojson\",\"w\") as jsonFile:\n",
    "  jsonFile.write(json.dumps(data))\n",
    "\n",
    "df_features_clusters = df[cluster_features+[\"clusters\"]]\n",
    "\n",
    "import matplotlib.pyplot as plt\n",
    "import seaborn as sns\n",
    "sns.set()\n",
    "\n",
    "for f in cluster_features: \n",
    "  print(f)\n",
    "  sns.catplot(x=\"clusters\", y=f, data=df_features_clusters, palette=\"PiYG\", kind ='bar')\n",
    "    \n",
    "  plt.show()"
   ]
  },
  {
   "cell_type": "code",
   "execution_count": null,
   "metadata": {},
   "outputs": [],
   "source": []
  }
 ],
 "metadata": {
  "colab": {
   "authorship_tag": "ABX9TyNg84dLmxyHLljaYALiElLl",
   "collapsed_sections": [],
   "mount_file_id": "1gS5z8S9MP1JlSF7kMFmN2O6FbLwcIfG5",
   "name": "kmeans.ipynb",
   "provenance": []
  },
  "kernelspec": {
   "display_name": "Python 3",
   "language": "python",
   "name": "python3"
  },
  "language_info": {
   "codemirror_mode": {
    "name": "ipython",
    "version": 3
   },
   "file_extension": ".py",
   "mimetype": "text/x-python",
   "name": "python",
   "nbconvert_exporter": "python",
   "pygments_lexer": "ipython3",
   "version": "3.8.3"
  }
 },
 "nbformat": 4,
 "nbformat_minor": 1
}
